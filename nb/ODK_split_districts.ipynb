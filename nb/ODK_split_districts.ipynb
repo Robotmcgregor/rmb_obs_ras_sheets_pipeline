{
 "cells": [
  {
   "cell_type": "markdown",
   "metadata": {},
   "source": [
    "# Split ODK Outputs to Districts"
   ]
  },
  {
   "cell_type": "markdown",
   "metadata": {},
   "source": [
    "Known issue: Woody thickeing is not across all districts."
   ]
  },
  {
   "cell_type": "code",
   "execution_count": 11,
   "metadata": {},
   "outputs": [],
   "source": [
    "import pandas as pd\n",
    "from glob import glob\n",
    "import os\n",
    "path = r'Z:\\Scratch\\Zonal_Stats_Pipeline\\rmb_aggregate_processing\\raw_odk\\rmcgr'"
   ]
  },
  {
   "cell_type": "code",
   "execution_count": 18,
   "metadata": {},
   "outputs": [],
   "source": [
    "def create_dir(path_, dist):\n",
    "    output = \"{0}\\\\{1}\".format(path_, dist)\n",
    "    check_file = os.path.exists(output)\n",
    "    if check_file:\n",
    "        pass\n",
    "    else:\n",
    "        os.mkdir(output)\n",
    "    return output"
   ]
  },
  {
   "cell_type": "code",
   "execution_count": 24,
   "metadata": {},
   "outputs": [
    {
     "name": "stdout",
     "output_type": "stream",
     "text": [
      "Z:\\Scratch\\Zonal_Stats_Pipeline\\rmb_aggregate_processing\\raw_odk\\rmcgr\\RMB_Basal_Sweep_v1_results.csv\n",
      "RMB_Basal_Sweep_v1_results.csv\n",
      "Z:\\Scratch\\Zonal_Stats_Pipeline\\rmb_aggregate_processing\\raw_odk\\rmcgr\\RMB_Integrated_v1_results.csv\n",
      "RMB_Integrated_v1_results.csv\n",
      "Z:\\Scratch\\Zonal_Stats_Pipeline\\rmb_aggregate_processing\\raw_odk\\rmcgr\\RMB_Rapid_Assessment_RAS_v1_results.csv\n",
      "RMB_Rapid_Assessment_RAS_v1_results.csv\n",
      "Z:\\Scratch\\Zonal_Stats_Pipeline\\rmb_aggregate_processing\\raw_odk\\rmcgr\\RMB_Star_Transect_v1_results.csv\n",
      "RMB_Star_Transect_v1_results.csv\n",
      "Z:\\Scratch\\Zonal_Stats_Pipeline\\rmb_aggregate_processing\\raw_odk\\rmcgr\\RMB_Woody_Thickening_v1_results.csv\n",
      "RMB_Woody_Thickening_v1_results.csv\n"
     ]
    }
   ],
   "source": [
    "for file in glob(path + '\\\\*'):\n",
    "    print(file)\n",
    "    file_list = file.split('\\\\')\n",
    "    file_name = file_list[-1]\n",
    "    print(file_name)\n",
    "    df = pd.read_csv(file)\n",
    "    for dist in df.DISTRICT.unique():\n",
    "        dist_df = df[df['DISTRICT'] == dist]\n",
    "        output = create_dir(path, dist)\n",
    "        dist_df.to_csv(\"{0}\\\\{1}\".format(output, file_name), index=False)\n",
    "        \n",
    "        \n",
    "        "
   ]
  },
  {
   "cell_type": "code",
   "execution_count": null,
   "metadata": {},
   "outputs": [],
   "source": []
  }
 ],
 "metadata": {
  "kernelspec": {
   "display_name": "Python 3",
   "language": "python",
   "name": "python3"
  },
  "language_info": {
   "codemirror_mode": {
    "name": "ipython",
    "version": 3
   },
   "file_extension": ".py",
   "mimetype": "text/x-python",
   "name": "python",
   "nbconvert_exporter": "python",
   "pygments_lexer": "ipython3",
   "version": "3.7.7"
  }
 },
 "nbformat": 4,
 "nbformat_minor": 4
}
