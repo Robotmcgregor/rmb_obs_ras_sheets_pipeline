{
 "cells": [
  {
   "cell_type": "markdown",
   "metadata": {},
   "source": [
    "# ODK Aggregate processing pipeline.\n",
    "\n",
    "Copyright 2021 Robert McGregor"
   ]
  },
  {
   "cell_type": "markdown",
   "metadata": {},
   "source": [
    "This notebook controls the processing of ODK Aggregate Result csv files and produces the following outputs:\n",
    "- observation sheet\n",
    "- ras sheet\n",
    "- downloads and renames photographs."
   ]
  },
  {
   "cell_type": "markdown",
   "metadata": {},
   "source": [
    "### cd to the directory from the Anaconda/Miniconda terminal.\n",
    "\n",
    "cd E:\\DENR\\code\\rangeland_monitoring\\rmb_aggregate_processing"
   ]
  },
  {
   "cell_type": "markdown",
   "metadata": {},
   "source": [
    "Depending on your system you may need to add \"/d\"\n",
    "i.e. cd /d E:\\DENR\\code\\rangeland_monitoring\\rmb_aggregate_processing"
   ]
  },
  {
   "cell_type": "markdown",
   "metadata": {},
   "source": [
    "## Setup"
   ]
  },
  {
   "cell_type": "markdown",
   "metadata": {},
   "source": [
    "### Required packages:\n",
    "The ODK Aggregate processing pipeline requires the following package:\n",
    "\n",
    "- numpy\n",
    "- geopandas\n",
    "- datetime\n",
    "- os\n",
    "- argparse\n",
    "- sys\n",
    "- shutill\n",
    "- warnings\n",
    "- glob\n",
    "- xlsxwriter\n",
    "\n",
    "If you are using this notebook locally, you may need to install these packages using conda or pip. Uncomment one of the cells below by removing the hashtag('#') and run the cell by pressing **Shift+Enter**."
   ]
  },
  {
   "cell_type": "code",
   "execution_count": null,
   "metadata": {},
   "outputs": [],
   "source": [
    "! conda list"
   ]
  },
  {
   "cell_type": "markdown",
   "metadata": {},
   "source": [
    "## Lets check the core packages versions in your conda environment."
   ]
  },
  {
   "cell_type": "code",
   "execution_count": null,
   "metadata": {},
   "outputs": [],
   "source": [
    "import pandas; print(f\"pandas: {pandas.__version__}\")\n",
    "import numpy; print(f\"numpy: {numpy.__version__}\")\n",
    "import geopandas; print(f\"geopandas: {geopandas.__version__}\")\n",
    "import argparse; print(f\"argpass: {argparse.__version__}\")\n",
    "import xlsxwriter; print(f\"xlsxwriter: {xlsxwriter.__version__}\")\n",
    "import selenium; print(f\"selenium: {selenium.__version__}\")"
   ]
  },
  {
   "cell_type": "code",
   "execution_count": null,
   "metadata": {},
   "outputs": [],
   "source": [
    "# If you do not have the required packages uncomment out the required line if you are on you local computer you will \n",
    "# need use external wifi (i.e. hotspot your phone)\n",
    "\n",
    "#! conda install -c conda-forge numpy geopandas argparse xlsxwriter selenium\n",
    "#! conda install -c conda-forge numpy\n",
    "#! conda install -c conda-forge geopandas\n",
    "#! conda install -c conda-forge argparse\n",
    "#! conda install -c conda-forge xlsxwriter\n",
    "#! conda install -c conda-forge selenium"
   ]
  },
  {
   "cell_type": "markdown",
   "metadata": {},
   "source": [
    "## Command arguments"
   ]
  },
  {
   "cell_type": "markdown",
   "metadata": {},
   "source": [
    "- '-d', '--directory_odk', help = 'The directory containing ODK csv files.', default set to '\\raw_odk'\n",
    "- '-x', '--export_dir', help = 'Directory path for outputs.', default set to 'Z:\\Scratch\\Zonal_Stats_Pipeline\\rmb_aggregate_processing\\outputs'            \n",
    "- '-c', '--chrome_driver', help = 'File path for the chrome extension driver.', default set to \"assets/chrome_driver/chrome_driver_v89_0_4389_23/chromedriver.exe\"\n",
    "- '-r', '--remote_desktop', help = 'Working on the remote_desktop? - Enter remote_auto, remote, local or offline.', default set to 'remote' - see next cell for full explanation.\n",
    "- '-v', '--assets_veg_list_dir', help=\"Directory containing veg lists', default set to 'assets/veg_list'.\n",
    "- '-s', '--assets_shapefiles_dir', help='Directory containing shapefiles', default set to 'assets/shapefiles'\n",
    "- '-t', '--time_sleep', help='Time between odk aggregate actions -if lagging increase integer', default set to 20 - only required if ruuning remote_desktop as remote_auto\n",
    "- '-ht', '--html_dir', help='Directory containing html transect files. remote_desktop local or offline mode  requires the manual download of transect html tables', default='html_transect'\n",
    "- '-ver', '--version', help='ODK version being processed (e.g. v1, v2 etc.)', default='v1'\n",
    "- '-p', '--property_enquire', help=\"Enter the name of a single property you wish to process. (eg. PROPERTY NAME)\", default is set to None (None - will process all sites)."
   ]
  },
  {
   "cell_type": "markdown",
   "metadata": {},
   "source": [
    "### Remote desktop command argument options"
   ]
  },
  {
   "cell_type": "markdown",
   "metadata": {},
   "source": [
    " - remote_auto = PGB-BAS14 server - will automate entire process - networking issues are currently causing this to crash - not recomended.\n",
    " - remote = PGB-BAS14 server - will automate the process however, you will need to have downloads result csv files from ODK Aggregate - recommended.\n",
    " - local = external computer conected to NTG internet requires odk csv files and will download photos - recommended.\n",
    " - offline = external computer not conected to NTG internet - requires odk csv files and will not download photos - if required."
   ]
  },
  {
   "cell_type": "markdown",
   "metadata": {},
   "source": [
    "#### Known issues"
   ]
  },
  {
   "cell_type": "markdown",
   "metadata": {},
   "source": [
    "- There are currently major issues with NTG Networking which are causing ODK to crash.\n",
    "- Due to the previously mentioned issue, saving transect data as an html/complete file over the network can also crash ODK Aggregate. As, such, all T4's have been approved for adm-accounts, allowing access to the remote server. Until such time that the network improved this script should only be used with remote_server set to 'remote', from within the remote server.\n"
   ]
  },
  {
   "cell_type": "markdown",
   "metadata": {},
   "source": [
    "### Check that you have connected to the project database"
   ]
  },
  {
   "cell_type": "code",
   "execution_count": 1,
   "metadata": {},
   "outputs": [
    {
     "data": {
      "text/plain": [
       "<Geographic 2D CRS: EPSG:4326>\n",
       "Name: WGS 84\n",
       "Axis Info [ellipsoidal]:\n",
       "- Lat[north]: Geodetic latitude (degree)\n",
       "- Lon[east]: Geodetic longitude (degree)\n",
       "Area of Use:\n",
       "- name: World\n",
       "- bounds: (-180.0, -90.0, 180.0, 90.0)\n",
       "Datum: World Geodetic System 1984\n",
       "- Ellipsoid: WGS 84\n",
       "- Prime Meridian: Greenwich"
      ]
     },
     "execution_count": 1,
     "metadata": {},
     "output_type": "execute_result"
    }
   ],
   "source": [
    "import geopandas as gpd\n",
    "import os\n",
    "\n",
    "path_parent = os.path.dirname(os.getcwd())\n",
    "previous_visists_shapefile =  path_parent +  '\\\\assets\\\\shapefiles\\\\NT_StarTransect_20200713.shp'\n",
    "gdf = gpd.read_file(previous_visists_shapefile)\n",
    "gdf.crs"
   ]
  },
  {
   "cell_type": "markdown",
   "metadata": {},
   "source": [
    "#### Do your results look like this?"
   ]
  },
  {
   "cell_type": "markdown",
   "metadata": {},
   "source": [
    "<Geographic 2D CRS: EPSG:4326>\n",
    "Name: WGS 84\n",
    "Axis Info [ellipsoidal]:\n",
    "- Lat[north]: Geodetic latitude (degree)\n",
    "- Lon[east]: Geodetic longitude (degree)\n",
    "Area of Use:\n",
    "- name: World\n",
    "- bounds: (-180.0, -90.0, 180.0, 90.0)\n",
    "Datum: World Geodetic System 1984\n",
    "- Ellipsoid: WGS 84\n",
    "- Prime Meridian: Greenwich"
   ]
  },
  {
   "cell_type": "markdown",
   "metadata": {},
   "source": [
    "If yes, you are ready to run some code.\n",
    "\n",
    "If not, open this notebook from within the conda environment zonal, and try again.\n",
    "\n",
    "Still having issues? Contact Rob or Grant on Teams, sharing your screen to trouble shoot."
   ]
  },
  {
   "cell_type": "markdown",
   "metadata": {},
   "source": [
    "## Run the RMB observatrion / ras sheet pipeline."
   ]
  },
  {
   "cell_type": "markdown",
   "metadata": {},
   "source": [
    "#### Change your working directory to code"
   ]
  },
  {
   "cell_type": "code",
   "execution_count": 2,
   "metadata": {},
   "outputs": [
    {
     "name": "stdout",
     "output_type": "stream",
     "text": [
      "E:\\DENR\\code\\rangeland_monitoring\\rmb_aggregate_processing\\code\n"
     ]
    }
   ],
   "source": [
    "import os\n",
    "path_parent = os.path.dirname(os.getcwd())\n",
    "code_dir =  path_parent +  '\\\\code'\n",
    "os.chdir(code_dir)\n",
    "print(os.getcwd())"
   ]
  },
  {
   "cell_type": "code",
   "execution_count": null,
   "metadata": {},
   "outputs": [],
   "source": [
    "#cd E:\\DENR\\code\\rangeland_monitoring\\rmb_aggregate_processing\\code"
   ]
  },
  {
   "cell_type": "code",
   "execution_count": null,
   "metadata": {},
   "outputs": [],
   "source": [
    "# press shift enter to see the command arguments\n",
    "#run step1_1_initiate_odk_processing_pipeline.py --help"
   ]
  },
  {
   "cell_type": "code",
   "execution_count": 3,
   "metadata": {},
   "outputs": [
    {
     "name": "stdout",
     "output_type": "stream",
     "text": [
      "usage: step1_1_initiate_odk_processing_pipeline.py [-h] [-d DIRECTORY_ODK]\n",
      "                                                   [-x EXPORT_DIR]\n",
      "                                                   [-c CHROME_DRIVER]\n",
      "                                                   [-r REMOTE_DESKTOP]\n",
      "                                                   [-v ASSETS_VEG_LIST_DIR]\n",
      "                                                   [-s ASSETS_SHAPEFILES_DIR]\n",
      "                                                   [-t TIME_SLEEP]\n",
      "                                                   [-ht HTML_DIR]\n",
      "                                                   [-ver VERSION]\n",
      "                                                   [-p PROPERTY_ENQUIRE]\n",
      "                                                   [-pd PASTORAL_DISTRICTS_DIRECTORY]\n",
      "\n",
      "Process raw RMB odk outputs -> csv, shapefiles observational sheets, and Ras\n",
      "sheets.\n",
      "\n",
      "optional arguments:\n",
      "  -h, --help            show this help message and exit\n",
      "  -d DIRECTORY_ODK, --directory_odk DIRECTORY_ODK\n",
      "                        The directory containing ODK csv files.\n",
      "  -x EXPORT_DIR, --export_dir EXPORT_DIR\n",
      "                        Directory path for outputs.\n",
      "  -c CHROME_DRIVER, --chrome_driver CHROME_DRIVER\n",
      "                        File path for the chrome extension driver.\n",
      "  -r REMOTE_DESKTOP, --remote_desktop REMOTE_DESKTOP\n",
      "                        Working on the remote_desktop? - Enter remote_auto,\n",
      "                        remote, local or offline.\n",
      "  -v ASSETS_VEG_LIST_DIR, --assets_veg_list_dir ASSETS_VEG_LIST_DIR\n",
      "                        Directory containing veg lists\n",
      "  -s ASSETS_SHAPEFILES_DIR, --assets_shapefiles_dir ASSETS_SHAPEFILES_DIR\n",
      "                        Directory containing shapefiles\n",
      "  -t TIME_SLEEP, --time_sleep TIME_SLEEP\n",
      "                        Time between odk aggregate actions -if lagging\n",
      "                        increase integer\n",
      "  -ht HTML_DIR, --html_dir HTML_DIR\n",
      "                        Directory containing html transect files (local or\n",
      "                        offline mode only\n",
      "  -ver VERSION, --version VERSION\n",
      "                        ODK version being processed (eg. v1, v2 etc.)\n",
      "  -p PROPERTY_ENQUIRE, --property_enquire PROPERTY_ENQUIRE\n",
      "                        Enter the name of of a single property you wish to\n",
      "                        process. (eg. Property Name)\n",
      "  -pd PASTORAL_DISTRICTS_DIRECTORY, --pastoral_districts_directory PASTORAL_DISTRICTS_DIRECTORY\n",
      "                        Enter path to the Pastoral_Districts directory in the\n",
      "                        Spatial/Working drive)\n"
     ]
    }
   ],
   "source": [
    "%run step1_1_initiate_odk_processing_pipeline.py -h"
   ]
  },
  {
   "cell_type": "code",
   "execution_count": 4,
   "metadata": {
    "scrolled": true
   },
   "outputs": [
    {
     "name": "stdout",
     "output_type": "stream",
     "text": [
      "property_enquire:  Moroak\n",
      "veg_list.xlsx located.\n",
      "pastoral_estate.shp located.\n",
      "NT_StarTransect_20200713.shp located.\n",
      "--------------------------------------------------\n",
      "file_output:  E:\\DENR\\code\\rangeland_monitoring\\rmb_aggregate_processing\\raw_odk\\RMB_Basal_Sweep_v1_results.csv\n",
      "RMB_Basal_Sweep_v1_results.csv have been moved to  E:\\DENR\\code\\rangeland_monitoring\\rmb_aggregate_processing\\raw_odk\n",
      "--------------------------------------------------\n",
      "file_output:  E:\\DENR\\code\\rangeland_monitoring\\rmb_aggregate_processing\\raw_odk\\RMB_Integrated_v1_results.csv\n",
      "RMB_Integrated_v1_results.csv have been moved to  E:\\DENR\\code\\rangeland_monitoring\\rmb_aggregate_processing\\raw_odk\n",
      "--------------------------------------------------\n",
      "file_output:  E:\\DENR\\code\\rangeland_monitoring\\rmb_aggregate_processing\\raw_odk\\RMB_Rapid_Assessment_RAS_v1_results.csv\n",
      "RMB_Rapid_Assessment_RAS_v1_results.csv have been moved to  E:\\DENR\\code\\rangeland_monitoring\\rmb_aggregate_processing\\raw_odk\n",
      "--------------------------------------------------\n",
      "file_output:  E:\\DENR\\code\\rangeland_monitoring\\rmb_aggregate_processing\\raw_odk\\RMB_Star_Transect_v1_results.csv\n",
      "RMB_Star_Transect_v1_results.csv have been moved to  E:\\DENR\\code\\rangeland_monitoring\\rmb_aggregate_processing\\raw_odk\n",
      "The following directory did not exist line 105:  Z:\\Scratch\\Zonal_Stats_Pipeline\\rmb_aggregate_processing\\outputs\\cobst_20210707_0904\n",
      "- located:  E:\\DENR\\code\\rangeland_monitoring\\rmb_aggregate_processing\\raw_odk\\RMB_Basal_Sweep_v1_results.csv\n",
      "- in directory:  raw_odk\n",
      "nnnnnnnnnnnnnnnnnnnnnnnnnnnnnnnnnnnnnnnnnnnnnnnnnn\n",
      "remote_auto results_csv:  E:\\DENR\\code\\rangeland_monitoring\\rmb_aggregate_processing\\raw_odk\\RMB_Basal_Sweep_v1_results.csv\n",
      "--------------------------------------------------\n",
      "E:\\DENR\\code\\rangeland_monitoring\\rmb_aggregate_processing\\raw_odk\\RMB_Basal_Sweep_v1_results.csv  located, initiating script..........\n",
      "--------------------------------------------------\n",
      "--------------------------------------------------\n",
      "basal_tree:  <class 'float'>\n",
      "basal_shrub:  0.0\n",
      "total_basal:  1.3\n",
      "--------------------------------------------------\n",
      "--------------------------------------------------\n",
      "basal_tree:  <class 'float'>\n",
      "basal_shrub:  0.0\n",
      "total_basal:  1.2\n",
      "--------------------------------------------------\n",
      "--------------------------------------------------\n",
      "basal_tree:  <class 'float'>\n",
      "basal_shrub:  0.0\n",
      "total_basal:  8.9\n",
      "--------------------------------------------------\n",
      "--------------------------------------------------\n",
      "basal_tree:  <class 'float'>\n",
      "basal_shrub:  0.0\n",
      "total_basal:  1.9\n",
      "wgs84 action\n",
      "- located:  E:\\DENR\\code\\rangeland_monitoring\\rmb_aggregate_processing\\raw_odk\\RMB_Integrated_v1_results.csv\n",
      "- in directory:  raw_odk\n",
      "nnnnnnnnnnnnnnnnnnnnnnnnnnnnnnnnnnnnnnnnnnnnnnnnnn\n",
      "remote_auto results_csv:  E:\\DENR\\code\\rangeland_monitoring\\rmb_aggregate_processing\\raw_odk\\RMB_Integrated_v1_results.csv\n",
      "--------------------------------------------------\n",
      "E:\\DENR\\code\\rangeland_monitoring\\rmb_aggregate_processing\\raw_odk\\RMB_Integrated_v1_results.csv  located, initiating script..........\n",
      "wgs84 action\n",
      "- located:  E:\\DENR\\code\\rangeland_monitoring\\rmb_aggregate_processing\\raw_odk\\RMB_Rapid_Assessment_RAS_v1_results.csv\n",
      "- in directory:  raw_odk\n",
      "nnnnnnnnnnnnnnnnnnnnnnnnnnnnnnnnnnnnnnnnnnnnnnnnnn\n",
      "remote_auto results_csv:  E:\\DENR\\code\\rangeland_monitoring\\rmb_aggregate_processing\\raw_odk\\RMB_Rapid_Assessment_RAS_v1_results.csv\n",
      "--------------------------------------------------\n",
      "E:\\DENR\\code\\rangeland_monitoring\\rmb_aggregate_processing\\raw_odk\\RMB_Rapid_Assessment_RAS_v1_results.csv  located, initiating script..........\n",
      "step6_1_ras_processing_workflow initiated step1_1 line 220 RMB_Rapid_Assessment_RAS_v1_results.csv\n",
      "- located:  E:\\DENR\\code\\rangeland_monitoring\\rmb_aggregate_processing\\raw_odk\\RMB_Star_Transect_v1_results.csv\n",
      "- in directory:  raw_odk\n",
      "nnnnnnnnnnnnnnnnnnnnnnnnnnnnnnnnnnnnnnnnnnnnnnnnnn\n",
      "remote_auto results_csv:  E:\\DENR\\code\\rangeland_monitoring\\rmb_aggregate_processing\\raw_odk\\RMB_Star_Transect_v1_results.csv\n",
      "--------------------------------------------------\n",
      "E:\\DENR\\code\\rangeland_monitoring\\rmb_aggregate_processing\\raw_odk\\RMB_Star_Transect_v1_results.csv  located, initiating script..........\n",
      "MOK08A\n",
      "MOK06A\n",
      "MOK07A\n",
      "MOK01A\n",
      "Moroak\n",
      "}}}}}}}}}}}}}}}}}}}}}}}}}}}}}}}}}}}}}}}}}}}}}}}}}}\n",
      "dist_ver_list8:  ['BLANK', 'absent', '']\n",
      "__________________________________________________\n",
      "Moroak\n",
      "MOK01A\n",
      "Observation sheet complete.\n",
      "__________________________________________________\n",
      "Moroak\n",
      "MOK02\n",
      "Ras sheet complete.\n",
      "__________________________________________________\n",
      "Moroak\n",
      "MOK03\n",
      "Ras sheet complete.\n",
      "__________________________________________________\n",
      "Moroak\n",
      "MOK04\n",
      "Ras sheet complete.\n",
      "__________________________________________________\n",
      "Moroak\n",
      "MOK05\n",
      "Ras sheet complete.\n",
      "}}}}}}}}}}}}}}}}}}}}}}}}}}}}}}}}}}}}}}}}}}}}}}}}}}\n",
      "dist_ver_list8:  ['BLANK', 'absent', '']\n",
      "__________________________________________________\n",
      "Moroak\n",
      "MOK06A\n",
      "Observation sheet complete.\n",
      "}}}}}}}}}}}}}}}}}}}}}}}}}}}}}}}}}}}}}}}}}}}}}}}}}}\n",
      "dist_ver_list8:  ['BLANK', 'absent', '']\n",
      "__________________________________________________\n",
      "Moroak\n",
      "MOK07A\n",
      "Observation sheet complete.\n",
      "}}}}}}}}}}}}}}}}}}}}}}}}}}}}}}}}}}}}}}}}}}}}}}}}}}\n",
      "dist_ver_list8:  ['BLANK', 'absent', '']\n",
      "__________________________________________________\n",
      "Moroak\n",
      "MOK08A\n",
      "Observation sheet complete.\n",
      "__________________________________________________\n",
      "Moroak\n",
      "RAS05\n",
      "Ras sheet complete.\n",
      "__________________________________________________\n",
      "Moroak\n",
      "RAS06\n",
      "Ras sheet complete.\n",
      "__________________________________________________\n",
      "Moroak\n",
      "RAS07\n",
      "Ras sheet complete.\n"
     ]
    }
   ],
   "source": [
    "%run step1_1_initiate_odk_processing_pipeline.py -r remote_auto -ver v1 -t 10 -p \"MOROAK\" "
   ]
  },
  {
   "cell_type": "code",
   "execution_count": null,
   "metadata": {},
   "outputs": [],
   "source": []
  }
 ],
 "metadata": {
  "kernelspec": {
   "display_name": "Python 3",
   "language": "python",
   "name": "python3"
  },
  "language_info": {
   "codemirror_mode": {
    "name": "ipython",
    "version": 3
   },
   "file_extension": ".py",
   "mimetype": "text/x-python",
   "name": "python",
   "nbconvert_exporter": "python",
   "pygments_lexer": "ipython3",
   "version": "3.7.7"
  }
 },
 "nbformat": 4,
 "nbformat_minor": 2
}
