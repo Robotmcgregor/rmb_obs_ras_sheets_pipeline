{
 "cells": [
  {
   "cell_type": "markdown",
   "metadata": {},
   "source": [
    "# ODK Aggregate processing pipeline.\n",
    "\n",
    "Copyright 2021 Robert McGregor"
   ]
  },
  {
   "cell_type": "markdown",
   "metadata": {},
   "source": [
    "- There are currently major issues with NTG Networking which are causing ODK to crash.\n",
    "- Due to the previously mentioned issue, saving transect data as an html/complete file over the network can also crash ODK Aggregate. As, such, all T4's have been approved for adm-accounts, allowing access to the remote server. Until such time that the network improved this script should only be used with remote_server set to 'remote', from within the remote server.\n"
   ]
  },
  {
   "cell_type": "markdown",
   "metadata": {},
   "source": [
    "## Run the RMB observatrion / ras sheet pipeline."
   ]
  },
  {
   "cell_type": "markdown",
   "metadata": {},
   "source": [
    "#### Change your working directory to code"
   ]
  },
  {
   "cell_type": "code",
   "execution_count": 1,
   "metadata": {},
   "outputs": [
    {
     "name": "stdout",
     "output_type": "stream",
     "text": [
      "E:\\DEPWS\\code\\rangeland_monitoring\\rmb_aggregate_processing\\code\n"
     ]
    }
   ],
   "source": [
    "import os\n",
    "path_parent = os.path.dirname(os.getcwd())\n",
    "code_dir =  path_parent +  '\\\\code'\n",
    "os.chdir(code_dir)\n",
    "print(os.getcwd())"
   ]
  },
  {
   "cell_type": "code",
   "execution_count": 2,
   "metadata": {},
   "outputs": [
    {
     "name": "stdout",
     "output_type": "stream",
     "text": [
      "usage: step1_1_initiate_odk_processing_pipeline.py [-h] [-d DIRECTORY_ODK]\n",
      "                                                   [-x EXPORT_DIR]\n",
      "                                                   [-c CHROME_DRIVER]\n",
      "                                                   [-r REMOTE_DESKTOP]\n",
      "                                                   [-v ASSETS_VEG_LIST_DIR]\n",
      "                                                   [-s ASSETS_SHAPEFILES_DIR]\n",
      "                                                   [-t TIME_SLEEP]\n",
      "                                                   [-ht HTML_DIR]\n",
      "                                                   [-ver VERSION]\n",
      "                                                   [-p PROPERTY_ENQUIRE]\n",
      "                                                   [-pd PASTORAL_DISTRICTS_DIRECTORY]\n",
      "\n",
      "Process raw RMB odk outputs -> csv, shapefiles observational sheets, and Ras\n",
      "sheets.\n",
      "\n",
      "optional arguments:\n",
      "  -h, --help            show this help message and exit\n",
      "  -d DIRECTORY_ODK, --directory_odk DIRECTORY_ODK\n",
      "                        The directory containing ODK csv files.\n",
      "  -x EXPORT_DIR, --export_dir EXPORT_DIR\n",
      "                        Directory path for outputs.\n",
      "  -c CHROME_DRIVER, --chrome_driver CHROME_DRIVER\n",
      "                        File path for the chrome extension driver.\n",
      "  -r REMOTE_DESKTOP, --remote_desktop REMOTE_DESKTOP\n",
      "                        Working on the remote_desktop? - Enter remote_auto,\n",
      "                        remote, local or offline.\n",
      "  -v ASSETS_VEG_LIST_DIR, --assets_veg_list_dir ASSETS_VEG_LIST_DIR\n",
      "                        Directory containing veg lists\n",
      "  -s ASSETS_SHAPEFILES_DIR, --assets_shapefiles_dir ASSETS_SHAPEFILES_DIR\n",
      "                        Directory containing shapefiles\n",
      "  -t TIME_SLEEP, --time_sleep TIME_SLEEP\n",
      "                        Time between odk aggregate actions -if lagging\n",
      "                        increase integer\n",
      "  -ht HTML_DIR, --html_dir HTML_DIR\n",
      "                        Directory containing html transect files (local or\n",
      "                        offline mode only\n",
      "  -ver VERSION, --version VERSION\n",
      "                        ODK version being processed (eg. v1, v2 etc.)\n",
      "  -p PROPERTY_ENQUIRE, --property_enquire PROPERTY_ENQUIRE\n",
      "                        Enter the name of of a single property you wish to\n",
      "                        process. (eg. PROPERTY_NAME)\n",
      "  -pd PASTORAL_DISTRICTS_DIRECTORY, --pastoral_districts_directory PASTORAL_DISTRICTS_DIRECTORY\n",
      "                        Enter path to the Pastoral_Districts directory in the\n",
      "                        Spatial/Working drive)\n"
     ]
    }
   ],
   "source": [
    "%run step1_1_initiate_odk_processing_pipeline.py -h"
   ]
  },
  {
   "cell_type": "code",
   "execution_count": null,
   "metadata": {},
   "outputs": [],
   "source": []
  },
  {
   "cell_type": "code",
   "execution_count": 3,
   "metadata": {
    "scrolled": false
   },
   "outputs": [
    {
     "name": "stdout",
     "output_type": "stream",
     "text": [
      "==================================================\n",
      "Processing property:  Argadargada\n",
      "==================================================\n",
      "veg_list.xlsx located.\n",
      "NT_Pastoral_Estate.shp located.\n",
      "NT_StarTransect_20200713.shp located.\n",
      "['RMB_Star_Transect_v1', 'RMB_Integrated_v1', 'RMB_Basal_Sweep_v1', 'RMB_Woody_Thickening_v1', 'RMB_Rapid_Assessment_RAS_v1']\n",
      "export_dir:  Z:\\Scratch\\Zonal_Stats_Pipeline\\rmb_aggregate_processing\\outputs\n",
      "temp_dir:  Z:\\Scratch\\Zonal_Stats_Pipeline\\rmb_aggregate_processing\\outputs\\ho2_20220707_08_15\n",
      "The following directory did not exist:  Z:\\Scratch\\Zonal_Stats_Pipeline\\rmb_aggregate_processing\\outputs\\ho2_20220707_08_15\n",
      "- located:  RMB_Star_Transect_v1_results.csv\n",
      "- in directory:  Z:\\Scratch\\Zonal_Stats_Pipeline\\rmb_aggregate_processing\\raw_odk\\Hoops\n",
      "--------------------------------------------------\n",
      " - NOT LOCATED:  RMB_Star_Transect_v1_results.csv\n",
      " - in directory:  Z:\\Scratch\\Zonal_Stats_Pipeline\\rmb_aggregate_processing\\raw_odk\\Hoops\n",
      "--------------------------------------------------\n",
      "- located:  RMB_Integrated_v1_results.csv\n",
      "- in directory:  Z:\\Scratch\\Zonal_Stats_Pipeline\\rmb_aggregate_processing\\raw_odk\\Hoops\n",
      "--------------------------------------------------\n",
      "The property you have selected (Argadargada) does NOT exist within the RAS dataframe - No Integrated output will be produced.\n",
      "- located:  RMB_Basal_Sweep_v1_results.csv\n",
      "- in directory:  Z:\\Scratch\\Zonal_Stats_Pipeline\\rmb_aggregate_processing\\raw_odk\\Hoops\n",
      "--------------------------------------------------\n",
      "- located:  RMB_Woody_Thickening_v1_results.csv\n",
      "- in directory:  Z:\\Scratch\\Zonal_Stats_Pipeline\\rmb_aggregate_processing\\raw_odk\\Hoops\n",
      "--------------------------------------------------\n",
      "- located:  RMB_Rapid_Assessment_RAS_v1_results.csv\n",
      "- in directory:  Z:\\Scratch\\Zonal_Stats_Pipeline\\rmb_aggregate_processing\\raw_odk\\Hoops\n",
      "--------------------------------------------------\n",
      " - NOT LOCATED:  RMB_Rapid_Assessment_RAS_v1_results.csv\n",
      " - in directory:  Z:\\Scratch\\Zonal_Stats_Pipeline\\rmb_aggregate_processing\\raw_odk\\Hoops\n",
      "--------------------------------------------------\n",
      "!!!!!!!!!!!!!!!!!!!!!!!!!!!!!!!!!!!!!!!!!!!!!!!!!!\n",
      "located_list:  [False, True, True, True, False]\n",
      "script 7 initiated\n",
      "Filling observational sheets\n",
      "csv_list:  []\n",
      "step12 1 initiated\n",
      "export_site_dir2:  Z:\\Scratch\\Zonal_Stats_Pipeline\\rmb_aggregate_processing\\outputs\\ho2_20220707_08_15\\site_outputs\n",
      "directory:  Z:\\Scratch\\Zonal_Stats_Pipeline\\rmb_aggregate_processing\\outputs\\ho2_20220707_08_15\\site_outputs\n",
      "search_criteria:  clean_ras.csv\n",
      "==================================================\n",
      "directory:  Z:\\Scratch\\Zonal_Stats_Pipeline\\rmb_aggregate_processing\\outputs\\ho2_20220707_08_15\\site_outputs\n",
      "search_criteria:  clean_star_transect.csv\n",
      "==================================================\n",
      "step12_2 initiated...\n",
      "==================================================\n",
      "script complete - goodbye.......\n"
     ]
    }
   ],
   "source": [
    "%run step1_1_initiate_odk_processing_pipeline.py -r remote -ver v1 -t 20 -p \"ARGADARGADA\" -d Z:\\Scratch\\Zonal_Stats_Pipeline\\rmb_aggregate_processing\\raw_odk\\Hoops "
   ]
  },
  {
   "cell_type": "code",
   "execution_count": 4,
   "metadata": {},
   "outputs": [],
   "source": [
    "#Rob did this"
   ]
  },
  {
   "cell_type": "code",
   "execution_count": 5,
   "metadata": {},
   "outputs": [
    {
     "name": "stdout",
     "output_type": "stream",
     "text": [
      "==================================================\n",
      "Processing property:  Neutral_Junction\n",
      "==================================================\n",
      "veg_list.xlsx located.\n",
      "NT_Pastoral_Estate.shp located.\n",
      "NT_StarTransect_20200713.shp located.\n",
      "['RMB_Star_Transect_v1', 'RMB_Integrated_v1', 'RMB_Basal_Sweep_v1', 'RMB_Woody_Thickening_v1', 'RMB_Rapid_Assessment_RAS_v1']\n",
      "Located and removed:  ['C:Users\\\\admho2\\\\Downloads\\\\RMB_Basal_Sweep_v1_results.csv', 'C:Users\\\\admho2\\\\Downloads\\\\RMB_Integrated_v1_results.csv', 'C:Users\\\\admho2\\\\Downloads\\\\RMB_Star_Transect_v2_results.csv', 'C:Users\\\\admho2\\\\Downloads\\\\RMB_Woody_Thickening_v1_results.csv'] from C:Users\\admho2\\Downloads\n",
      "Located and removed:  ['C:Users\\\\admho2\\\\Downloads\\\\RMB_Basal_Sweep_v1_results.csv', 'C:Users\\\\admho2\\\\Downloads\\\\RMB_Integrated_v1_results.csv', 'C:Users\\\\admho2\\\\Downloads\\\\RMB_Star_Transect_v2_results.csv', 'C:Users\\\\admho2\\\\Downloads\\\\RMB_Woody_Thickening_v1_results.csv'] from C:Users\\admho2\\Downloads\n",
      "Located and removed:  ['C:Users\\\\admho2\\\\Downloads\\\\RMB_Basal_Sweep_v1_results.csv', 'C:Users\\\\admho2\\\\Downloads\\\\RMB_Integrated_v1_results.csv', 'C:Users\\\\admho2\\\\Downloads\\\\RMB_Star_Transect_v2_results.csv', 'C:Users\\\\admho2\\\\Downloads\\\\RMB_Woody_Thickening_v1_results.csv'] from C:Users\\admho2\\Downloads\n",
      "Located and removed:  ['C:Users\\\\admho2\\\\Downloads\\\\RMB_Basal_Sweep_v1_results.csv', 'C:Users\\\\admho2\\\\Downloads\\\\RMB_Integrated_v1_results.csv', 'C:Users\\\\admho2\\\\Downloads\\\\RMB_Star_Transect_v2_results.csv', 'C:Users\\\\admho2\\\\Downloads\\\\RMB_Woody_Thickening_v1_results.csv'] from C:Users\\admho2\\Downloads\n"
     ]
    },
    {
     "ename": "WebDriverException",
     "evalue": "Message: chrome not reachable\n  (Session info: chrome=89.0.4389.114)\n",
     "output_type": "error",
     "traceback": [
      "\u001b[1;31m---------------------------------------------------------------------------\u001b[0m",
      "\u001b[1;31mWebDriverException\u001b[0m                        Traceback (most recent call last)",
      "\u001b[1;32mE:\\DEPWS\\code\\rangeland_monitoring\\rmb_aggregate_processing\\code\\step1_1_initiate_odk_processing_pipeline.py\u001b[0m in \u001b[0;36m<module>\u001b[1;34m()\u001b[0m\n\u001b[0;32m    466\u001b[0m     \u001b[0mprint\u001b[0m\u001b[1;33m(\u001b[0m\u001b[1;34m'script complete - goodbye.......'\u001b[0m\u001b[1;33m)\u001b[0m\u001b[1;33m\u001b[0m\u001b[1;33m\u001b[0m\u001b[0m\n\u001b[0;32m    467\u001b[0m \u001b[1;32mif\u001b[0m \u001b[0m__name__\u001b[0m \u001b[1;33m==\u001b[0m \u001b[1;34m'__main__'\u001b[0m\u001b[1;33m:\u001b[0m\u001b[1;33m\u001b[0m\u001b[1;33m\u001b[0m\u001b[0m\n\u001b[1;32m--> 468\u001b[1;33m     \u001b[0mmain_routine\u001b[0m\u001b[1;33m(\u001b[0m\u001b[1;33m)\u001b[0m\u001b[1;33m\u001b[0m\u001b[1;33m\u001b[0m\u001b[0m\n\u001b[0m",
      "\u001b[1;32mE:\\DEPWS\\code\\rangeland_monitoring\\rmb_aggregate_processing\\code\\step1_1_initiate_odk_processing_pipeline.py\u001b[0m in \u001b[0;36mmain_routine\u001b[1;34m()\u001b[0m\n\u001b[0;32m    370\u001b[0m         \u001b[1;32mimport\u001b[0m \u001b[0mstep1_2_aggregate_collect_raw_data_remote_desktop\u001b[0m\u001b[1;33m\u001b[0m\u001b[1;33m\u001b[0m\u001b[0m\n\u001b[0;32m    371\u001b[0m         odk_results_list = step1_2_aggregate_collect_raw_data_remote_desktop.main_routine(\n\u001b[1;32m--> 372\u001b[1;33m             chrome_driver_path, odk_form_list, time_sleep)\n\u001b[0m\u001b[0;32m    373\u001b[0m \u001b[1;33m\u001b[0m\u001b[0m\n\u001b[0;32m    374\u001b[0m         \u001b[1;31m# purge result csv with 0 observations\u001b[0m\u001b[1;33m\u001b[0m\u001b[1;33m\u001b[0m\u001b[1;33m\u001b[0m\u001b[0m\n",
      "\u001b[1;32mE:\\DEPWS\\code\\rangeland_monitoring\\rmb_aggregate_processing\\code\\step1_2_aggregate_collect_raw_data_remote_desktop.py\u001b[0m in \u001b[0;36mmain_routine\u001b[1;34m(chrome_driver, odk_form_list, time_sleep)\u001b[0m\n\u001b[0;32m    173\u001b[0m         \u001b[0mtime\u001b[0m\u001b[1;33m.\u001b[0m\u001b[0msleep\u001b[0m\u001b[1;33m(\u001b[0m\u001b[0mtime_sleep\u001b[0m \u001b[1;33m*\u001b[0m \u001b[1;36m1\u001b[0m\u001b[1;33m)\u001b[0m\u001b[1;33m\u001b[0m\u001b[1;33m\u001b[0m\u001b[0m\n\u001b[0;32m    174\u001b[0m         dropdown_state = WebDriverWait(driver, 20).until(EC.visibility_of_element_located(\n\u001b[1;32m--> 175\u001b[1;33m             (By.XPATH, \"//*[@id='form_and_goal_selection']/tbody/tr/td[2]/select\")))\n\u001b[0m\u001b[0;32m    176\u001b[0m \u001b[1;33m\u001b[0m\u001b[0m\n\u001b[0;32m    177\u001b[0m         \u001b[1;32mif\u001b[0m \u001b[0mEC\u001b[0m\u001b[1;33m.\u001b[0m\u001b[0melement_selection_state_to_be\u001b[0m\u001b[1;33m(\u001b[0m\u001b[0mdropdown_state\u001b[0m\u001b[1;33m,\u001b[0m \u001b[0mis_selected\u001b[0m\u001b[1;33m=\u001b[0m\u001b[1;32mTrue\u001b[0m\u001b[1;33m)\u001b[0m\u001b[1;33m:\u001b[0m\u001b[1;33m\u001b[0m\u001b[1;33m\u001b[0m\u001b[0m\n",
      "\u001b[1;32mC:\\ProgramData\\Miniconda3\\envs\\rmb_zonal\\lib\\site-packages\\selenium\\webdriver\\support\\wait.py\u001b[0m in \u001b[0;36muntil\u001b[1;34m(self, method, message)\u001b[0m\n\u001b[0;32m     69\u001b[0m         \u001b[1;32mwhile\u001b[0m \u001b[1;32mTrue\u001b[0m\u001b[1;33m:\u001b[0m\u001b[1;33m\u001b[0m\u001b[1;33m\u001b[0m\u001b[0m\n\u001b[0;32m     70\u001b[0m             \u001b[1;32mtry\u001b[0m\u001b[1;33m:\u001b[0m\u001b[1;33m\u001b[0m\u001b[1;33m\u001b[0m\u001b[0m\n\u001b[1;32m---> 71\u001b[1;33m                 \u001b[0mvalue\u001b[0m \u001b[1;33m=\u001b[0m \u001b[0mmethod\u001b[0m\u001b[1;33m(\u001b[0m\u001b[0mself\u001b[0m\u001b[1;33m.\u001b[0m\u001b[0m_driver\u001b[0m\u001b[1;33m)\u001b[0m\u001b[1;33m\u001b[0m\u001b[1;33m\u001b[0m\u001b[0m\n\u001b[0m\u001b[0;32m     72\u001b[0m                 \u001b[1;32mif\u001b[0m \u001b[0mvalue\u001b[0m\u001b[1;33m:\u001b[0m\u001b[1;33m\u001b[0m\u001b[1;33m\u001b[0m\u001b[0m\n\u001b[0;32m     73\u001b[0m                     \u001b[1;32mreturn\u001b[0m \u001b[0mvalue\u001b[0m\u001b[1;33m\u001b[0m\u001b[1;33m\u001b[0m\u001b[0m\n",
      "\u001b[1;32mC:\\ProgramData\\Miniconda3\\envs\\rmb_zonal\\lib\\site-packages\\selenium\\webdriver\\support\\expected_conditions.py\u001b[0m in \u001b[0;36m__call__\u001b[1;34m(self, driver)\u001b[0m\n\u001b[0;32m    126\u001b[0m     \u001b[1;32mdef\u001b[0m \u001b[0m__call__\u001b[0m\u001b[1;33m(\u001b[0m\u001b[0mself\u001b[0m\u001b[1;33m,\u001b[0m \u001b[0mdriver\u001b[0m\u001b[1;33m)\u001b[0m\u001b[1;33m:\u001b[0m\u001b[1;33m\u001b[0m\u001b[1;33m\u001b[0m\u001b[0m\n\u001b[0;32m    127\u001b[0m         \u001b[1;32mtry\u001b[0m\u001b[1;33m:\u001b[0m\u001b[1;33m\u001b[0m\u001b[1;33m\u001b[0m\u001b[0m\n\u001b[1;32m--> 128\u001b[1;33m             \u001b[1;32mreturn\u001b[0m \u001b[0m_element_if_visible\u001b[0m\u001b[1;33m(\u001b[0m\u001b[0m_find_element\u001b[0m\u001b[1;33m(\u001b[0m\u001b[0mdriver\u001b[0m\u001b[1;33m,\u001b[0m \u001b[0mself\u001b[0m\u001b[1;33m.\u001b[0m\u001b[0mlocator\u001b[0m\u001b[1;33m)\u001b[0m\u001b[1;33m)\u001b[0m\u001b[1;33m\u001b[0m\u001b[1;33m\u001b[0m\u001b[0m\n\u001b[0m\u001b[0;32m    129\u001b[0m         \u001b[1;32mexcept\u001b[0m \u001b[0mStaleElementReferenceException\u001b[0m\u001b[1;33m:\u001b[0m\u001b[1;33m\u001b[0m\u001b[1;33m\u001b[0m\u001b[0m\n\u001b[0;32m    130\u001b[0m             \u001b[1;32mreturn\u001b[0m \u001b[1;32mFalse\u001b[0m\u001b[1;33m\u001b[0m\u001b[1;33m\u001b[0m\u001b[0m\n",
      "\u001b[1;32mC:\\ProgramData\\Miniconda3\\envs\\rmb_zonal\\lib\\site-packages\\selenium\\webdriver\\support\\expected_conditions.py\u001b[0m in \u001b[0;36m_find_element\u001b[1;34m(driver, by)\u001b[0m\n\u001b[0;32m    413\u001b[0m         \u001b[1;32mraise\u001b[0m \u001b[0me\u001b[0m\u001b[1;33m\u001b[0m\u001b[1;33m\u001b[0m\u001b[0m\n\u001b[0;32m    414\u001b[0m     \u001b[1;32mexcept\u001b[0m \u001b[0mWebDriverException\u001b[0m \u001b[1;32mas\u001b[0m \u001b[0me\u001b[0m\u001b[1;33m:\u001b[0m\u001b[1;33m\u001b[0m\u001b[1;33m\u001b[0m\u001b[0m\n\u001b[1;32m--> 415\u001b[1;33m         \u001b[1;32mraise\u001b[0m \u001b[0me\u001b[0m\u001b[1;33m\u001b[0m\u001b[1;33m\u001b[0m\u001b[0m\n\u001b[0m\u001b[0;32m    416\u001b[0m \u001b[1;33m\u001b[0m\u001b[0m\n\u001b[0;32m    417\u001b[0m \u001b[1;33m\u001b[0m\u001b[0m\n",
      "\u001b[1;32mC:\\ProgramData\\Miniconda3\\envs\\rmb_zonal\\lib\\site-packages\\selenium\\webdriver\\support\\expected_conditions.py\u001b[0m in \u001b[0;36m_find_element\u001b[1;34m(driver, by)\u001b[0m\n\u001b[0;32m    409\u001b[0m     if thrown.\"\"\"\n\u001b[0;32m    410\u001b[0m     \u001b[1;32mtry\u001b[0m\u001b[1;33m:\u001b[0m\u001b[1;33m\u001b[0m\u001b[1;33m\u001b[0m\u001b[0m\n\u001b[1;32m--> 411\u001b[1;33m         \u001b[1;32mreturn\u001b[0m \u001b[0mdriver\u001b[0m\u001b[1;33m.\u001b[0m\u001b[0mfind_element\u001b[0m\u001b[1;33m(\u001b[0m\u001b[1;33m*\u001b[0m\u001b[0mby\u001b[0m\u001b[1;33m)\u001b[0m\u001b[1;33m\u001b[0m\u001b[1;33m\u001b[0m\u001b[0m\n\u001b[0m\u001b[0;32m    412\u001b[0m     \u001b[1;32mexcept\u001b[0m \u001b[0mNoSuchElementException\u001b[0m \u001b[1;32mas\u001b[0m \u001b[0me\u001b[0m\u001b[1;33m:\u001b[0m\u001b[1;33m\u001b[0m\u001b[1;33m\u001b[0m\u001b[0m\n\u001b[0;32m    413\u001b[0m         \u001b[1;32mraise\u001b[0m \u001b[0me\u001b[0m\u001b[1;33m\u001b[0m\u001b[1;33m\u001b[0m\u001b[0m\n",
      "\u001b[1;32mC:\\ProgramData\\Miniconda3\\envs\\rmb_zonal\\lib\\site-packages\\selenium\\webdriver\\remote\\webdriver.py\u001b[0m in \u001b[0;36mfind_element\u001b[1;34m(self, by, value)\u001b[0m\n\u001b[0;32m    976\u001b[0m         return self.execute(Command.FIND_ELEMENT, {\n\u001b[0;32m    977\u001b[0m             \u001b[1;34m'using'\u001b[0m\u001b[1;33m:\u001b[0m \u001b[0mby\u001b[0m\u001b[1;33m,\u001b[0m\u001b[1;33m\u001b[0m\u001b[1;33m\u001b[0m\u001b[0m\n\u001b[1;32m--> 978\u001b[1;33m             'value': value})['value']\n\u001b[0m\u001b[0;32m    979\u001b[0m \u001b[1;33m\u001b[0m\u001b[0m\n\u001b[0;32m    980\u001b[0m     \u001b[1;32mdef\u001b[0m \u001b[0mfind_elements\u001b[0m\u001b[1;33m(\u001b[0m\u001b[0mself\u001b[0m\u001b[1;33m,\u001b[0m \u001b[0mby\u001b[0m\u001b[1;33m=\u001b[0m\u001b[0mBy\u001b[0m\u001b[1;33m.\u001b[0m\u001b[0mID\u001b[0m\u001b[1;33m,\u001b[0m \u001b[0mvalue\u001b[0m\u001b[1;33m=\u001b[0m\u001b[1;32mNone\u001b[0m\u001b[1;33m)\u001b[0m\u001b[1;33m:\u001b[0m\u001b[1;33m\u001b[0m\u001b[1;33m\u001b[0m\u001b[0m\n",
      "\u001b[1;32mC:\\ProgramData\\Miniconda3\\envs\\rmb_zonal\\lib\\site-packages\\selenium\\webdriver\\remote\\webdriver.py\u001b[0m in \u001b[0;36mexecute\u001b[1;34m(self, driver_command, params)\u001b[0m\n\u001b[0;32m    319\u001b[0m         \u001b[0mresponse\u001b[0m \u001b[1;33m=\u001b[0m \u001b[0mself\u001b[0m\u001b[1;33m.\u001b[0m\u001b[0mcommand_executor\u001b[0m\u001b[1;33m.\u001b[0m\u001b[0mexecute\u001b[0m\u001b[1;33m(\u001b[0m\u001b[0mdriver_command\u001b[0m\u001b[1;33m,\u001b[0m \u001b[0mparams\u001b[0m\u001b[1;33m)\u001b[0m\u001b[1;33m\u001b[0m\u001b[1;33m\u001b[0m\u001b[0m\n\u001b[0;32m    320\u001b[0m         \u001b[1;32mif\u001b[0m \u001b[0mresponse\u001b[0m\u001b[1;33m:\u001b[0m\u001b[1;33m\u001b[0m\u001b[1;33m\u001b[0m\u001b[0m\n\u001b[1;32m--> 321\u001b[1;33m             \u001b[0mself\u001b[0m\u001b[1;33m.\u001b[0m\u001b[0merror_handler\u001b[0m\u001b[1;33m.\u001b[0m\u001b[0mcheck_response\u001b[0m\u001b[1;33m(\u001b[0m\u001b[0mresponse\u001b[0m\u001b[1;33m)\u001b[0m\u001b[1;33m\u001b[0m\u001b[1;33m\u001b[0m\u001b[0m\n\u001b[0m\u001b[0;32m    322\u001b[0m             response['value'] = self._unwrap_value(\n\u001b[0;32m    323\u001b[0m                 response.get('value', None))\n",
      "\u001b[1;32mC:\\ProgramData\\Miniconda3\\envs\\rmb_zonal\\lib\\site-packages\\selenium\\webdriver\\remote\\errorhandler.py\u001b[0m in \u001b[0;36mcheck_response\u001b[1;34m(self, response)\u001b[0m\n\u001b[0;32m    240\u001b[0m                 \u001b[0malert_text\u001b[0m \u001b[1;33m=\u001b[0m \u001b[0mvalue\u001b[0m\u001b[1;33m[\u001b[0m\u001b[1;34m'alert'\u001b[0m\u001b[1;33m]\u001b[0m\u001b[1;33m.\u001b[0m\u001b[0mget\u001b[0m\u001b[1;33m(\u001b[0m\u001b[1;34m'text'\u001b[0m\u001b[1;33m)\u001b[0m\u001b[1;33m\u001b[0m\u001b[1;33m\u001b[0m\u001b[0m\n\u001b[0;32m    241\u001b[0m             \u001b[1;32mraise\u001b[0m \u001b[0mexception_class\u001b[0m\u001b[1;33m(\u001b[0m\u001b[0mmessage\u001b[0m\u001b[1;33m,\u001b[0m \u001b[0mscreen\u001b[0m\u001b[1;33m,\u001b[0m \u001b[0mstacktrace\u001b[0m\u001b[1;33m,\u001b[0m \u001b[0malert_text\u001b[0m\u001b[1;33m)\u001b[0m\u001b[1;33m\u001b[0m\u001b[1;33m\u001b[0m\u001b[0m\n\u001b[1;32m--> 242\u001b[1;33m         \u001b[1;32mraise\u001b[0m \u001b[0mexception_class\u001b[0m\u001b[1;33m(\u001b[0m\u001b[0mmessage\u001b[0m\u001b[1;33m,\u001b[0m \u001b[0mscreen\u001b[0m\u001b[1;33m,\u001b[0m \u001b[0mstacktrace\u001b[0m\u001b[1;33m)\u001b[0m\u001b[1;33m\u001b[0m\u001b[1;33m\u001b[0m\u001b[0m\n\u001b[0m\u001b[0;32m    243\u001b[0m \u001b[1;33m\u001b[0m\u001b[0m\n\u001b[0;32m    244\u001b[0m     \u001b[1;32mdef\u001b[0m \u001b[0m_value_or_default\u001b[0m\u001b[1;33m(\u001b[0m\u001b[0mself\u001b[0m\u001b[1;33m,\u001b[0m \u001b[0mobj\u001b[0m\u001b[1;33m,\u001b[0m \u001b[0mkey\u001b[0m\u001b[1;33m,\u001b[0m \u001b[0mdefault\u001b[0m\u001b[1;33m)\u001b[0m\u001b[1;33m:\u001b[0m\u001b[1;33m\u001b[0m\u001b[1;33m\u001b[0m\u001b[0m\n",
      "\u001b[1;31mWebDriverException\u001b[0m: Message: chrome not reachable\n  (Session info: chrome=89.0.4389.114)\n"
     ]
    }
   ],
   "source": [
    "%run step1_1_initiate_odk_processing_pipeline.py -r remote_auto -ver v1 -t 10 -p \"NEUTRAL_JUNCTION\" -d Z:\\Scratch\\Zonal_Stats_Pipeline\\rmb_aggregate_processing\\raw_odk\\Hoops "
   ]
  },
  {
   "cell_type": "code",
   "execution_count": null,
   "metadata": {},
   "outputs": [],
   "source": []
  }
 ],
 "metadata": {
  "kernelspec": {
   "display_name": "Python 3",
   "language": "python",
   "name": "python3"
  },
  "language_info": {
   "codemirror_mode": {
    "name": "ipython",
    "version": 3
   },
   "file_extension": ".py",
   "mimetype": "text/x-python",
   "name": "python",
   "nbconvert_exporter": "python",
   "pygments_lexer": "ipython3",
   "version": "3.7.7"
  }
 },
 "nbformat": 4,
 "nbformat_minor": 2
}
