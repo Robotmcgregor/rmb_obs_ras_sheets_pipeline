{
 "cells": [
  {
   "cell_type": "markdown",
   "metadata": {},
   "source": [
    "# ODK Aggregate processing pipeline.\n",
    "\n",
    "Copyright 2021 Robert McGregor"
   ]
  },
  {
   "cell_type": "markdown",
   "metadata": {},
   "source": [
    "#### Change your working directory to code"
   ]
  },
  {
   "cell_type": "code",
   "execution_count": 4,
   "metadata": {},
   "outputs": [
    {
     "name": "stdout",
     "output_type": "stream",
     "text": [
      "E:\\DENR\\code\\rangeland_monitoring\\rmb_aggregate_processing\\code\n"
     ]
    }
   ],
   "source": [
    "import os\n",
    "path_parent = os.path.dirname(os.getcwd())\n",
    "code_dir =  path_parent +  '\\\\code'\n",
    "os.chdir(code_dir)\n",
    "print(os.getcwd())"
   ]
  },
  {
   "cell_type": "code",
   "execution_count": 5,
   "metadata": {},
   "outputs": [],
   "source": [
    "#%run step1_1_initiate_odk_processing_pipeline.py -h"
   ]
  },
  {
   "cell_type": "code",
   "execution_count": 7,
   "metadata": {},
   "outputs": [
    {
     "name": "stderr",
     "output_type": "stream",
     "text": [
      "usage: step1_1_initiate_odk_processing_pipeline.py [-h] [-d DIRECTORY_ODK]\n",
      "                                                   [-x EXPORT_DIR]\n",
      "                                                   [-c CHROME_DRIVER]\n",
      "                                                   [-r REMOTE_DESKTOP]\n",
      "                                                   [-v ASSETS_VEG_LIST_DIR]\n",
      "                                                   [-s ASSETS_SHAPEFILES_DIR]\n",
      "                                                   [-t TIME_SLEEP]\n",
      "                                                   [-ht HTML_DIR]\n",
      "                                                   [-ver VERSION]\n",
      "                                                   [-p PROPERTY_ENQUIRE]\n",
      "                                                   [-pd PASTORAL_DISTRICTS_DIRECTORY]\n",
      "step1_1_initiate_odk_processing_pipeline.py: error: argument -ver/--version: expected one argument\n"
     ]
    },
    {
     "ename": "SystemExit",
     "evalue": "2",
     "output_type": "error",
     "traceback": [
      "An exception has occurred, use %tb to see the full traceback.\n",
      "\u001b[1;31mSystemExit\u001b[0m\u001b[1;31m:\u001b[0m 2\n"
     ]
    }
   ],
   "source": [
    "%run step1_1_initiate_odk_processing_pipeline.py -r remote_auto -ver -t 15 v1 -p \"OLD MOUNT BUNDY\""
   ]
  },
  {
   "cell_type": "code",
   "execution_count": 12,
   "metadata": {
    "scrolled": false
   },
   "outputs": [
    {
     "name": "stdout",
     "output_type": "stream",
     "text": [
      "==================================================\n",
      "Processing property:  Old_Mount_Bundey\n",
      "==================================================\n",
      "veg_list.xlsx located.\n",
      "NT_Pastoral_Estate.shp located.\n",
      "NT_StarTransect_20200713.shp located.\n",
      "export_dir:  Z:\\Scratch\\Zonal_Stats_Pipeline\\rmb_aggregate_processing\\outputs\n",
      "temp_dir:  Z:\\Scratch\\Zonal_Stats_Pipeline\\rmb_aggregate_processing\\outputs\\rmcgr_20220114_16_17\n",
      "The following directory did not exist:  Z:\\Scratch\\Zonal_Stats_Pipeline\\rmb_aggregate_processing\\outputs\\rmcgr_20220114_16_17\n",
      "- located:  RMB_Star_Transect_v1_results.csv\n",
      "- in directory:  Z:\\\\Scratch\\\\Zonal_Stats_Pipeline\\\\rmb_aggregate_processing\\\\raw_odk\\\\rmcgr\\\\new\n",
      "--------------------------------------------------\n",
      "OMB08A\n",
      "OMB07A\n",
      "OMB09A\n",
      "OMB06A\n",
      "Old Mount Bundey\n",
      "- located:  RMB_Integrated_v1_results.csv\n",
      "- in directory:  Z:\\\\Scratch\\\\Zonal_Stats_Pipeline\\\\rmb_aggregate_processing\\\\raw_odk\\\\rmcgr\\\\new\n",
      "--------------------------------------------------\n",
      "- located:  RMB_Basal_Sweep_v1_results.csv\n",
      "- in directory:  Z:\\\\Scratch\\\\Zonal_Stats_Pipeline\\\\rmb_aggregate_processing\\\\raw_odk\\\\rmcgr\\\\new\n",
      "--------------------------------------------------\n",
      "- located:  RMB_Woody_Thickening_v1_results.csv\n",
      "- in directory:  Z:\\\\Scratch\\\\Zonal_Stats_Pipeline\\\\rmb_aggregate_processing\\\\raw_odk\\\\rmcgr\\\\new\n",
      "--------------------------------------------------\n",
      "- located:  RMB_Rapid_Assessment_RAS_v1_results.csv\n",
      "- in directory:  Z:\\\\Scratch\\\\Zonal_Stats_Pipeline\\\\rmb_aggregate_processing\\\\raw_odk\\\\rmcgr\\\\new\n",
      "--------------------------------------------------\n",
      "!!!!!!!!!!!!!!!!!!!!!!!!!!!!!!!!!!!!!!!!!!!!!!!!!!\n",
      "located_list:  [True, True, True, True, True]\n",
      "script 7 initiated\n",
      "Filling observational sheets\n",
      "__________________________________________________\n",
      "Old_Mount_Bundey\n",
      "OMB01\n",
      "Ras sheet complete.\n",
      "__________________________________________________\n",
      "Old_Mount_Bundey\n",
      "OMB02\n",
      "Ras sheet complete.\n",
      "__________________________________________________\n",
      "Old_Mount_Bundey\n",
      "OMB03\n",
      "Ras sheet complete.\n",
      "__________________________________________________\n",
      "Old_Mount_Bundey\n",
      "OMB05\n",
      "Ras sheet complete.\n",
      "==================================================\n",
      "Clear sky\n",
      "Clear sky\n",
      "visit_vert_list1:  ['Obst, Chris', 'Luxton, Sarah', 'OMB06A', '12/08/2021 01:20:15 PM', 'BLANK']\n",
      "star_csv:  Z:\\Scratch\\Zonal_Stats_Pipeline\\rmb_aggregate_processing\\outputs\\rmcgr_20220114_16_17\\site_outputs\\Old_Mount_Bundey_OMB06A\\Old_Mount_Bundey_OMB06A_clean_star_transect.csv\n",
      "__________________________________________________\n",
      "Old_Mount_Bundey\n",
      "OMB06A\n",
      "Observation sheet complete.\n",
      "==================================================\n",
      "Patchy cloud 5 - 10% of sky\n",
      "Patchy cloud 5 - 10% of sky\n",
      "visit_vert_list1:  ['Luxton, Sarah', 'Obst, Chris', 'OMB07A', '11/08/2021 12:10:10 PM', 'BLANK']\n",
      "star_csv:  Z:\\Scratch\\Zonal_Stats_Pipeline\\rmb_aggregate_processing\\outputs\\rmcgr_20220114_16_17\\site_outputs\\Old_Mount_Bundey_OMB07A\\Old_Mount_Bundey_OMB07A_clean_star_transect.csv\n",
      "__________________________________________________\n",
      "Old_Mount_Bundey\n",
      "OMB07A\n",
      "Observation sheet complete.\n",
      "==================================================\n",
      "Some cloud 1- 5 % of sky\n",
      "Some cloud 1 - 5 % of sky\n",
      "visit_vert_list1:  ['Obst, Chris', 'Luxton, Sarah', 'OMB08A', '10/08/2021 02:09:40 PM', 'BLANK']\n",
      "star_csv:  Z:\\Scratch\\Zonal_Stats_Pipeline\\rmb_aggregate_processing\\outputs\\rmcgr_20220114_16_17\\site_outputs\\Old_Mount_Bundey_OMB08A\\Old_Mount_Bundey_OMB08A_clean_star_transect.csv\n"
     ]
    },
    {
     "ename": "WebDriverException",
     "evalue": "Message: chrome not reachable\n  (Session info: chrome=89.0.4389.114)\n",
     "output_type": "error",
     "traceback": [
      "\u001b[1;31m---------------------------------------------------------------------------\u001b[0m",
      "\u001b[1;31mWebDriverException\u001b[0m                        Traceback (most recent call last)",
      "\u001b[1;32mE:\\DENR\\code\\rangeland_monitoring\\rmb_aggregate_processing\\code\\step1_1_initiate_odk_processing_pipeline.py\u001b[0m in \u001b[0;36m<module>\u001b[1;34m()\u001b[0m\n\u001b[0;32m    463\u001b[0m     \u001b[0mprint\u001b[0m\u001b[1;33m(\u001b[0m\u001b[1;34m'script complete - goodbye.......'\u001b[0m\u001b[1;33m)\u001b[0m\u001b[1;33m\u001b[0m\u001b[1;33m\u001b[0m\u001b[0m\n\u001b[0;32m    464\u001b[0m \u001b[1;32mif\u001b[0m \u001b[0m__name__\u001b[0m \u001b[1;33m==\u001b[0m \u001b[1;34m'__main__'\u001b[0m\u001b[1;33m:\u001b[0m\u001b[1;33m\u001b[0m\u001b[1;33m\u001b[0m\u001b[0m\n\u001b[1;32m--> 465\u001b[1;33m     \u001b[0mmain_routine\u001b[0m\u001b[1;33m(\u001b[0m\u001b[1;33m)\u001b[0m\u001b[1;33m\u001b[0m\u001b[1;33m\u001b[0m\u001b[0m\n\u001b[0m",
      "\u001b[1;32mE:\\DENR\\code\\rangeland_monitoring\\rmb_aggregate_processing\\code\\step1_1_initiate_odk_processing_pipeline.py\u001b[0m in \u001b[0;36mmain_routine\u001b[1;34m()\u001b[0m\n\u001b[0;32m    436\u001b[0m                                                                       \u001b[0mtemp_dir\u001b[0m\u001b[1;33m,\u001b[0m \u001b[0mveg_list_excel\u001b[0m\u001b[1;33m,\u001b[0m \u001b[0mprevious_visits\u001b[0m\u001b[1;33m,\u001b[0m\u001b[1;33m\u001b[0m\u001b[1;33m\u001b[0m\u001b[0m\n\u001b[0;32m    437\u001b[0m                                                                       \u001b[0mchrome_driver_path\u001b[0m\u001b[1;33m,\u001b[0m \u001b[0mhtml_dir\u001b[0m\u001b[1;33m,\u001b[0m \u001b[0mpastoral_estate\u001b[0m\u001b[1;33m,\u001b[0m\u001b[1;33m\u001b[0m\u001b[1;33m\u001b[0m\u001b[0m\n\u001b[1;32m--> 438\u001b[1;33m                                                                       odk_complete_dir)\n\u001b[0m\u001b[0;32m    439\u001b[0m \u001b[1;33m\u001b[0m\u001b[0m\n\u001b[0;32m    440\u001b[0m         \u001b[1;32mif\u001b[0m \u001b[0mremote_desktop\u001b[0m \u001b[1;33m!=\u001b[0m \u001b[1;34m\"offline\"\u001b[0m\u001b[1;33m:\u001b[0m\u001b[1;33m\u001b[0m\u001b[1;33m\u001b[0m\u001b[0m\n",
      "\u001b[1;32mE:\\DENR\\code\\rangeland_monitoring\\rmb_aggregate_processing\\code\\step7_site_processing_workflow.py\u001b[0m in \u001b[0;36mmain_routine\u001b[1;34m(directory_odk, file_path, remote_desktop, temp_dir, veg_list_excel, previous_visits, chrome_driver, html_dir, pastoral_estate, odk_complete_dir)\u001b[0m\n\u001b[0;32m    430\u001b[0m     \u001b[1;31m# call the data_extraction_workflow_fn function to\u001b[0m\u001b[1;33m\u001b[0m\u001b[1;33m\u001b[0m\u001b[1;33m\u001b[0m\u001b[0m\n\u001b[0;32m    431\u001b[0m     data_extraction_workflow_fn(directory_odk, site_dir_path_list, remote_desktop, veg_list_excel,\n\u001b[1;32m--> 432\u001b[1;33m                                 previous_visits, chrome_driver, html_dir, pastoral_estate)\n\u001b[0m\u001b[0;32m    433\u001b[0m \u001b[1;33m\u001b[0m\u001b[0m\n\u001b[0;32m    434\u001b[0m     \u001b[1;32mreturn\u001b[0m \u001b[0mdir_path\u001b[0m\u001b[1;33m\u001b[0m\u001b[1;33m\u001b[0m\u001b[0m\n",
      "\u001b[1;32mE:\\DENR\\code\\rangeland_monitoring\\rmb_aggregate_processing\\code\\step7_site_processing_workflow.py\u001b[0m in \u001b[0;36mdata_extraction_workflow_fn\u001b[1;34m(directory_odk, site_dir_path_list, remote_desktop, veg_list_excel, previous_visits, chrome_driver, html_dir, pastoral_estate)\u001b[0m\n\u001b[0;32m    351\u001b[0m                 \u001b[1;32mimport\u001b[0m \u001b[0mstep9_2_aggregate_transect_extraction_remote_desktop\u001b[0m\u001b[1;33m\u001b[0m\u001b[1;33m\u001b[0m\u001b[0m\n\u001b[0;32m    352\u001b[0m                 step9_2_aggregate_transect_extraction_remote_desktop.main_routine(\n\u001b[1;32m--> 353\u001b[1;33m                     obs_data_list, property_name, site, site_dir, star, remote_desktop, chrome_driver, photo_date)\n\u001b[0m\u001b[0;32m    354\u001b[0m \u001b[1;33m\u001b[0m\u001b[0m\n\u001b[0;32m    355\u001b[0m             \u001b[1;32melif\u001b[0m \u001b[0mos\u001b[0m\u001b[1;33m.\u001b[0m\u001b[0mpath\u001b[0m\u001b[1;33m.\u001b[0m\u001b[0misfile\u001b[0m\u001b[1;33m(\u001b[0m\u001b[0mras_csv\u001b[0m\u001b[1;33m)\u001b[0m\u001b[1;33m:\u001b[0m\u001b[1;33m\u001b[0m\u001b[1;33m\u001b[0m\u001b[0m\n",
      "\u001b[1;32mE:\\DENR\\code\\rangeland_monitoring\\rmb_aggregate_processing\\code\\step9_2_aggregate_transect_extraction_remote_desktop.py\u001b[0m in \u001b[0;36mmain_routine\u001b[1;34m(obs_data_list, property_name, site_code, site_dir, star, remote_desktop, chrome_driver, photo_date)\u001b[0m\n\u001b[0;32m    125\u001b[0m     \u001b[1;32mfor\u001b[0m \u001b[0mi\u001b[0m \u001b[1;32min\u001b[0m \u001b[0mtran_url_list\u001b[0m\u001b[1;33m:\u001b[0m\u001b[1;33m\u001b[0m\u001b[1;33m\u001b[0m\u001b[0m\n\u001b[0;32m    126\u001b[0m         \u001b[1;31m# call the transect_table_fn function to open, download and save a transect html table.\u001b[0m\u001b[1;33m\u001b[0m\u001b[1;33m\u001b[0m\u001b[1;33m\u001b[0m\u001b[0m\n\u001b[1;32m--> 127\u001b[1;33m         \u001b[0mdriver\u001b[0m \u001b[1;33m=\u001b[0m \u001b[0mtransect_table_fn\u001b[0m\u001b[1;33m(\u001b[0m\u001b[0mdriver\u001b[0m\u001b[1;33m,\u001b[0m \u001b[0mi\u001b[0m\u001b[1;33m,\u001b[0m \u001b[0mloop\u001b[0m\u001b[1;33m,\u001b[0m \u001b[0msite_dir\u001b[0m\u001b[1;33m,\u001b[0m \u001b[0msite\u001b[0m\u001b[1;33m)\u001b[0m\u001b[1;33m\u001b[0m\u001b[1;33m\u001b[0m\u001b[0m\n\u001b[0m\u001b[0;32m    128\u001b[0m \u001b[1;33m\u001b[0m\u001b[0m\n\u001b[0;32m    129\u001b[0m         \u001b[0mloop\u001b[0m \u001b[1;33m+=\u001b[0m \u001b[1;36m1\u001b[0m\u001b[1;33m\u001b[0m\u001b[1;33m\u001b[0m\u001b[0m\n",
      "\u001b[1;32mE:\\DENR\\code\\rangeland_monitoring\\rmb_aggregate_processing\\code\\step9_2_aggregate_transect_extraction_remote_desktop.py\u001b[0m in \u001b[0;36mtransect_table_fn\u001b[1;34m(driver, i, loop, site_folder_path, site)\u001b[0m\n\u001b[0;32m     74\u001b[0m     \u001b[1;31m# open transect 1 table webpage\u001b[0m\u001b[1;33m\u001b[0m\u001b[1;33m\u001b[0m\u001b[1;33m\u001b[0m\u001b[0m\n\u001b[0;32m     75\u001b[0m     \u001b[0mtime\u001b[0m\u001b[1;33m.\u001b[0m\u001b[0msleep\u001b[0m\u001b[1;33m(\u001b[0m\u001b[1;36m5\u001b[0m\u001b[1;33m)\u001b[0m\u001b[1;33m\u001b[0m\u001b[1;33m\u001b[0m\u001b[0m\n\u001b[1;32m---> 76\u001b[1;33m     \u001b[0mdriver\u001b[0m\u001b[1;33m.\u001b[0m\u001b[0mget\u001b[0m\u001b[1;33m(\u001b[0m\u001b[0mi\u001b[0m\u001b[1;33m)\u001b[0m\u001b[1;33m\u001b[0m\u001b[1;33m\u001b[0m\u001b[0m\n\u001b[0m\u001b[0;32m     77\u001b[0m     \u001b[0mtime\u001b[0m\u001b[1;33m.\u001b[0m\u001b[0msleep\u001b[0m\u001b[1;33m(\u001b[0m\u001b[1;36m5\u001b[0m\u001b[1;33m)\u001b[0m\u001b[1;33m\u001b[0m\u001b[1;33m\u001b[0m\u001b[0m\n\u001b[0;32m     78\u001b[0m \u001b[1;33m\u001b[0m\u001b[0m\n",
      "\u001b[1;32mC:\\ProgramData\\Miniconda3\\envs\\rmb_zonal\\lib\\site-packages\\selenium\\webdriver\\remote\\webdriver.py\u001b[0m in \u001b[0;36mget\u001b[1;34m(self, url)\u001b[0m\n\u001b[0;32m    331\u001b[0m         \u001b[0mLoads\u001b[0m \u001b[0ma\u001b[0m \u001b[0mweb\u001b[0m \u001b[0mpage\u001b[0m \u001b[1;32min\u001b[0m \u001b[0mthe\u001b[0m \u001b[0mcurrent\u001b[0m \u001b[0mbrowser\u001b[0m \u001b[0msession\u001b[0m\u001b[1;33m.\u001b[0m\u001b[1;33m\u001b[0m\u001b[1;33m\u001b[0m\u001b[0m\n\u001b[0;32m    332\u001b[0m         \"\"\"\n\u001b[1;32m--> 333\u001b[1;33m         \u001b[0mself\u001b[0m\u001b[1;33m.\u001b[0m\u001b[0mexecute\u001b[0m\u001b[1;33m(\u001b[0m\u001b[0mCommand\u001b[0m\u001b[1;33m.\u001b[0m\u001b[0mGET\u001b[0m\u001b[1;33m,\u001b[0m \u001b[1;33m{\u001b[0m\u001b[1;34m'url'\u001b[0m\u001b[1;33m:\u001b[0m \u001b[0murl\u001b[0m\u001b[1;33m}\u001b[0m\u001b[1;33m)\u001b[0m\u001b[1;33m\u001b[0m\u001b[1;33m\u001b[0m\u001b[0m\n\u001b[0m\u001b[0;32m    334\u001b[0m \u001b[1;33m\u001b[0m\u001b[0m\n\u001b[0;32m    335\u001b[0m     \u001b[1;33m@\u001b[0m\u001b[0mproperty\u001b[0m\u001b[1;33m\u001b[0m\u001b[1;33m\u001b[0m\u001b[0m\n",
      "\u001b[1;32mC:\\ProgramData\\Miniconda3\\envs\\rmb_zonal\\lib\\site-packages\\selenium\\webdriver\\remote\\webdriver.py\u001b[0m in \u001b[0;36mexecute\u001b[1;34m(self, driver_command, params)\u001b[0m\n\u001b[0;32m    319\u001b[0m         \u001b[0mresponse\u001b[0m \u001b[1;33m=\u001b[0m \u001b[0mself\u001b[0m\u001b[1;33m.\u001b[0m\u001b[0mcommand_executor\u001b[0m\u001b[1;33m.\u001b[0m\u001b[0mexecute\u001b[0m\u001b[1;33m(\u001b[0m\u001b[0mdriver_command\u001b[0m\u001b[1;33m,\u001b[0m \u001b[0mparams\u001b[0m\u001b[1;33m)\u001b[0m\u001b[1;33m\u001b[0m\u001b[1;33m\u001b[0m\u001b[0m\n\u001b[0;32m    320\u001b[0m         \u001b[1;32mif\u001b[0m \u001b[0mresponse\u001b[0m\u001b[1;33m:\u001b[0m\u001b[1;33m\u001b[0m\u001b[1;33m\u001b[0m\u001b[0m\n\u001b[1;32m--> 321\u001b[1;33m             \u001b[0mself\u001b[0m\u001b[1;33m.\u001b[0m\u001b[0merror_handler\u001b[0m\u001b[1;33m.\u001b[0m\u001b[0mcheck_response\u001b[0m\u001b[1;33m(\u001b[0m\u001b[0mresponse\u001b[0m\u001b[1;33m)\u001b[0m\u001b[1;33m\u001b[0m\u001b[1;33m\u001b[0m\u001b[0m\n\u001b[0m\u001b[0;32m    322\u001b[0m             response['value'] = self._unwrap_value(\n\u001b[0;32m    323\u001b[0m                 response.get('value', None))\n",
      "\u001b[1;32mC:\\ProgramData\\Miniconda3\\envs\\rmb_zonal\\lib\\site-packages\\selenium\\webdriver\\remote\\errorhandler.py\u001b[0m in \u001b[0;36mcheck_response\u001b[1;34m(self, response)\u001b[0m\n\u001b[0;32m    240\u001b[0m                 \u001b[0malert_text\u001b[0m \u001b[1;33m=\u001b[0m \u001b[0mvalue\u001b[0m\u001b[1;33m[\u001b[0m\u001b[1;34m'alert'\u001b[0m\u001b[1;33m]\u001b[0m\u001b[1;33m.\u001b[0m\u001b[0mget\u001b[0m\u001b[1;33m(\u001b[0m\u001b[1;34m'text'\u001b[0m\u001b[1;33m)\u001b[0m\u001b[1;33m\u001b[0m\u001b[1;33m\u001b[0m\u001b[0m\n\u001b[0;32m    241\u001b[0m             \u001b[1;32mraise\u001b[0m \u001b[0mexception_class\u001b[0m\u001b[1;33m(\u001b[0m\u001b[0mmessage\u001b[0m\u001b[1;33m,\u001b[0m \u001b[0mscreen\u001b[0m\u001b[1;33m,\u001b[0m \u001b[0mstacktrace\u001b[0m\u001b[1;33m,\u001b[0m \u001b[0malert_text\u001b[0m\u001b[1;33m)\u001b[0m\u001b[1;33m\u001b[0m\u001b[1;33m\u001b[0m\u001b[0m\n\u001b[1;32m--> 242\u001b[1;33m         \u001b[1;32mraise\u001b[0m \u001b[0mexception_class\u001b[0m\u001b[1;33m(\u001b[0m\u001b[0mmessage\u001b[0m\u001b[1;33m,\u001b[0m \u001b[0mscreen\u001b[0m\u001b[1;33m,\u001b[0m \u001b[0mstacktrace\u001b[0m\u001b[1;33m)\u001b[0m\u001b[1;33m\u001b[0m\u001b[1;33m\u001b[0m\u001b[0m\n\u001b[0m\u001b[0;32m    243\u001b[0m \u001b[1;33m\u001b[0m\u001b[0m\n\u001b[0;32m    244\u001b[0m     \u001b[1;32mdef\u001b[0m \u001b[0m_value_or_default\u001b[0m\u001b[1;33m(\u001b[0m\u001b[0mself\u001b[0m\u001b[1;33m,\u001b[0m \u001b[0mobj\u001b[0m\u001b[1;33m,\u001b[0m \u001b[0mkey\u001b[0m\u001b[1;33m,\u001b[0m \u001b[0mdefault\u001b[0m\u001b[1;33m)\u001b[0m\u001b[1;33m:\u001b[0m\u001b[1;33m\u001b[0m\u001b[1;33m\u001b[0m\u001b[0m\n",
      "\u001b[1;31mWebDriverException\u001b[0m: Message: chrome not reachable\n  (Session info: chrome=89.0.4389.114)\n"
     ]
    }
   ],
   "source": [
    "%run step1_1_initiate_odk_processing_pipeline.py -r remote -d Z:\\\\Scratch\\\\Zonal_Stats_Pipeline\\\\rmb_aggregate_processing\\\\raw_odk\\\\rmcgr\\\\new -p \"OLD MOUNT BUNDEY\""
   ]
  },
  {
   "cell_type": "code",
   "execution_count": null,
   "metadata": {},
   "outputs": [],
   "source": []
  },
  {
   "cell_type": "code",
   "execution_count": null,
   "metadata": {},
   "outputs": [],
   "source": []
  }
 ],
 "metadata": {
  "kernelspec": {
   "display_name": "Python 3",
   "language": "python",
   "name": "python3"
  },
  "language_info": {
   "codemirror_mode": {
    "name": "ipython",
    "version": 3
   },
   "file_extension": ".py",
   "mimetype": "text/x-python",
   "name": "python",
   "nbconvert_exporter": "python",
   "pygments_lexer": "ipython3",
   "version": "3.7.7"
  }
 },
 "nbformat": 4,
 "nbformat_minor": 2
}
