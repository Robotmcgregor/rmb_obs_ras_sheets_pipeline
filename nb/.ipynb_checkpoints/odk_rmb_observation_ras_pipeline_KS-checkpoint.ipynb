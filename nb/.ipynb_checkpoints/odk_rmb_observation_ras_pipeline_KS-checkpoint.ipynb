{
 "cells": [
  {
   "cell_type": "markdown",
   "metadata": {},
   "source": [
    "# ODK Aggregate processing pipeline.\n",
    "\n",
    "Copyright 2021 Robert McGregor"
   ]
  },
  {
   "cell_type": "markdown",
   "metadata": {},
   "source": [
    "#### Known issues"
   ]
  },
  {
   "cell_type": "markdown",
   "metadata": {},
   "source": [
    "- There are currently major issues with NTG Networking which are causing ODK to crash.\n",
    "- Due to the previously mentioned issue, saving transect data as an html/complete file over the network can also crash ODK Aggregate. As, such, all T4's have been approved for adm-accounts, allowing access to the remote server. Until such time that the network improved this script should only be used with remote_server set to 'remote', from within the remote server.\n"
   ]
  },
  {
   "cell_type": "markdown",
   "metadata": {},
   "source": [
    "## Run the RMB observatrion / ras sheet pipeline."
   ]
  },
  {
   "cell_type": "markdown",
   "metadata": {},
   "source": [
    "#### Change your working directory to code"
   ]
  },
  {
   "cell_type": "code",
   "execution_count": 1,
   "metadata": {},
   "outputs": [
    {
     "name": "stdout",
     "output_type": "stream",
     "text": [
      "E:\\DENR\\code\\rangeland_monitoring\\rmb_aggregate_processing\\code\n"
     ]
    }
   ],
   "source": [
    "import os\n",
    "path_parent = os.path.dirname(os.getcwd())\n",
    "code_dir =  path_parent +  '\\\\code'\n",
    "os.chdir(code_dir)\n",
    "print(os.getcwd())"
   ]
  },
  {
   "cell_type": "code",
   "execution_count": 2,
   "metadata": {},
   "outputs": [
    {
     "name": "stdout",
     "output_type": "stream",
     "text": [
      "usage: step1_1_initiate_odk_processing_pipeline.py [-h] [-d DIRECTORY_ODK]\n",
      "                                                   [-x EXPORT_DIR]\n",
      "                                                   [-c CHROME_DRIVER]\n",
      "                                                   [-r REMOTE_DESKTOP]\n",
      "                                                   [-v ASSETS_VEG_LIST_DIR]\n",
      "                                                   [-s ASSETS_SHAPEFILES_DIR]\n",
      "                                                   [-t TIME_SLEEP]\n",
      "                                                   [-ht HTML_DIR]\n",
      "                                                   [-ver VERSION]\n",
      "                                                   [-p PROPERTY_ENQUIRE]\n",
      "                                                   [-pd PASTORAL_DISTRICTS_DIRECTORY]\n",
      "\n",
      "Process raw RMB odk outputs -> csv, shapefiles observational sheets, and Ras\n",
      "sheets.\n",
      "\n",
      "optional arguments:\n",
      "  -h, --help            show this help message and exit\n",
      "  -d DIRECTORY_ODK, --directory_odk DIRECTORY_ODK\n",
      "                        The directory containing ODK csv files.\n",
      "  -x EXPORT_DIR, --export_dir EXPORT_DIR\n",
      "                        Directory path for outputs.\n",
      "  -c CHROME_DRIVER, --chrome_driver CHROME_DRIVER\n",
      "                        File path for the chrome extension driver.\n",
      "  -r REMOTE_DESKTOP, --remote_desktop REMOTE_DESKTOP\n",
      "                        Working on the remote_desktop? - Enter remote_auto,\n",
      "                        remote, local or offline.\n",
      "  -v ASSETS_VEG_LIST_DIR, --assets_veg_list_dir ASSETS_VEG_LIST_DIR\n",
      "                        Directory containing veg lists\n",
      "  -s ASSETS_SHAPEFILES_DIR, --assets_shapefiles_dir ASSETS_SHAPEFILES_DIR\n",
      "                        Directory containing shapefiles\n",
      "  -t TIME_SLEEP, --time_sleep TIME_SLEEP\n",
      "                        Time between odk aggregate actions -if lagging\n",
      "                        increase integer\n",
      "  -ht HTML_DIR, --html_dir HTML_DIR\n",
      "                        Directory containing html transect files (local or\n",
      "                        offline mode only\n",
      "  -ver VERSION, --version VERSION\n",
      "                        ODK version being processed (eg. v1, v2 etc.)\n",
      "  -p PROPERTY_ENQUIRE, --property_enquire PROPERTY_ENQUIRE\n",
      "                        Enter the name of of a single property you wish to\n",
      "                        process. (eg. Property Name)\n",
      "  -pd PASTORAL_DISTRICTS_DIRECTORY, --pastoral_districts_directory PASTORAL_DISTRICTS_DIRECTORY\n",
      "                        Enter path to the Pastoral_Districts directory in the\n",
      "                        Spatial/Working drive)\n"
     ]
    }
   ],
   "source": [
    "%run step1_1_initiate_odk_processing_pipeline.py -h"
   ]
  },
  {
   "cell_type": "code",
   "execution_count": 3,
   "metadata": {
    "scrolled": false
   },
   "outputs": [
    {
     "name": "stdout",
     "output_type": "stream",
     "text": [
      "property_enquire:  Narwietooma\n",
      "veg_list.xlsx located.\n",
      "pastoral_estate.shp located.\n",
      "NT_StarTransect_20200713.shp located.\n",
      "--------------------------------------------------\n",
      "file_output:  E:\\DENR\\code\\rangeland_monitoring\\rmb_aggregate_processing\\raw_odk\\RMB_Basal_Sweep_v1_results.csv\n",
      "RMB_Basal_Sweep_v1_results.csv have been moved to  E:\\DENR\\code\\rangeland_monitoring\\rmb_aggregate_processing\\raw_odk\n",
      "--------------------------------------------------\n",
      "file_output:  E:\\DENR\\code\\rangeland_monitoring\\rmb_aggregate_processing\\raw_odk\\RMB_Integrated_v1_results.csv\n",
      "RMB_Integrated_v1_results.csv have been moved to  E:\\DENR\\code\\rangeland_monitoring\\rmb_aggregate_processing\\raw_odk\n",
      "--------------------------------------------------\n",
      "file_output:  E:\\DENR\\code\\rangeland_monitoring\\rmb_aggregate_processing\\raw_odk\\RMB_Rapid_Assessment_RAS_v1_results.csv\n",
      "RMB_Rapid_Assessment_RAS_v1_results.csv have been moved to  E:\\DENR\\code\\rangeland_monitoring\\rmb_aggregate_processing\\raw_odk\n",
      "--------------------------------------------------\n",
      "file_output:  E:\\DENR\\code\\rangeland_monitoring\\rmb_aggregate_processing\\raw_odk\\RMB_Star_Transect_v1_results.csv\n",
      "RMB_Star_Transect_v1_results.csv have been moved to  E:\\DENR\\code\\rangeland_monitoring\\rmb_aggregate_processing\\raw_odk\n",
      "--------------------------------------------------\n",
      "file_output:  E:\\DENR\\code\\rangeland_monitoring\\rmb_aggregate_processing\\raw_odk\\RMB_Woody_Thickening_v1_results.csv\n",
      "RMB_Woody_Thickening_v1_results.csv have been moved to  E:\\DENR\\code\\rangeland_monitoring\\rmb_aggregate_processing\\raw_odk\n",
      "The following directory did not exist line 105:  Z:\\Scratch\\Zonal_Stats_Pipeline\\rmb_aggregate_processing\\outputs\\ste10_20211007_1421\n",
      "- located:  E:\\DENR\\code\\rangeland_monitoring\\rmb_aggregate_processing\\raw_odk\\RMB_Basal_Sweep_v1_results.csv\n",
      "- in directory:  Z:\\Scratch\\Zonal_Stats_Pipeline\\rmb_aggregate_processing\\raw_odk\\Kate\n",
      "nnnnnnnnnnnnnnnnnnnnnnnnnnnnnnnnnnnnnnnnnnnnnnnnnn\n",
      "remote_auto results_csv:  E:\\DENR\\code\\rangeland_monitoring\\rmb_aggregate_processing\\raw_odk\\RMB_Basal_Sweep_v1_results.csv\n",
      "--------------------------------------------------\n",
      "E:\\DENR\\code\\rangeland_monitoring\\rmb_aggregate_processing\\raw_odk\\RMB_Basal_Sweep_v1_results.csv  located, initiating script..........\n",
      "- located:  E:\\DENR\\code\\rangeland_monitoring\\rmb_aggregate_processing\\raw_odk\\RMB_Integrated_v1_results.csv\n",
      "- in directory:  Z:\\Scratch\\Zonal_Stats_Pipeline\\rmb_aggregate_processing\\raw_odk\\Kate\n",
      "nnnnnnnnnnnnnnnnnnnnnnnnnnnnnnnnnnnnnnnnnnnnnnnnnn\n",
      "remote_auto results_csv:  E:\\DENR\\code\\rangeland_monitoring\\rmb_aggregate_processing\\raw_odk\\RMB_Integrated_v1_results.csv\n",
      "--------------------------------------------------\n",
      "E:\\DENR\\code\\rangeland_monitoring\\rmb_aggregate_processing\\raw_odk\\RMB_Integrated_v1_results.csv  located, initiating script..........\n",
      "- located:  E:\\DENR\\code\\rangeland_monitoring\\rmb_aggregate_processing\\raw_odk\\RMB_Rapid_Assessment_RAS_v1_results.csv\n",
      "- in directory:  Z:\\Scratch\\Zonal_Stats_Pipeline\\rmb_aggregate_processing\\raw_odk\\Kate\n",
      "nnnnnnnnnnnnnnnnnnnnnnnnnnnnnnnnnnnnnnnnnnnnnnnnnn\n",
      "remote_auto results_csv:  E:\\DENR\\code\\rangeland_monitoring\\rmb_aggregate_processing\\raw_odk\\RMB_Rapid_Assessment_RAS_v1_results.csv\n",
      "--------------------------------------------------\n",
      "E:\\DENR\\code\\rangeland_monitoring\\rmb_aggregate_processing\\raw_odk\\RMB_Rapid_Assessment_RAS_v1_results.csv  located, initiating script..........\n",
      "step6_1_ras_processing_workflow initiated step1_1 line 220 RMB_Rapid_Assessment_RAS_v1_results.csv\n",
      "- located:  E:\\DENR\\code\\rangeland_monitoring\\rmb_aggregate_processing\\raw_odk\\RMB_Star_Transect_v1_results.csv\n",
      "- in directory:  Z:\\Scratch\\Zonal_Stats_Pipeline\\rmb_aggregate_processing\\raw_odk\\Kate\n",
      "nnnnnnnnnnnnnnnnnnnnnnnnnnnnnnnnnnnnnnnnnnnnnnnnnn\n",
      "remote_auto results_csv:  E:\\DENR\\code\\rangeland_monitoring\\rmb_aggregate_processing\\raw_odk\\RMB_Star_Transect_v1_results.csv\n",
      "--------------------------------------------------\n",
      "E:\\DENR\\code\\rangeland_monitoring\\rmb_aggregate_processing\\raw_odk\\RMB_Star_Transect_v1_results.csv  located, initiating script..........\n",
      "NWT16A\n",
      "NWT17A\n",
      "NWT15A\n",
      "NWT13A\n",
      "NWT14A\n",
      "NWT20A\n",
      "NWT19A\n",
      "NWT18A\n",
      "NWT21A\n",
      "NWT22A\n",
      "Narwietooma\n",
      "- located:  E:\\DENR\\code\\rangeland_monitoring\\rmb_aggregate_processing\\raw_odk\\RMB_Woody_Thickening_v1_results.csv\n",
      "- in directory:  Z:\\Scratch\\Zonal_Stats_Pipeline\\rmb_aggregate_processing\\raw_odk\\Kate\n",
      "nnnnnnnnnnnnnnnnnnnnnnnnnnnnnnnnnnnnnnnnnnnnnnnnnn\n",
      "remote_auto results_csv:  E:\\DENR\\code\\rangeland_monitoring\\rmb_aggregate_processing\\raw_odk\\RMB_Woody_Thickening_v1_results.csv\n",
      "--------------------------------------------------\n",
      "E:\\DENR\\code\\rangeland_monitoring\\rmb_aggregate_processing\\raw_odk\\RMB_Woody_Thickening_v1_results.csv  located, initiating script..........\n",
      "__________________________________________________\n",
      "Narwietooma\n",
      "NWT04\n",
      "Ras sheet complete.\n",
      "__________________________________________________\n",
      "Narwietooma\n",
      "NWT06\n",
      "Ras sheet complete.\n",
      "__________________________________________________\n",
      "Narwietooma\n",
      "NWT07\n",
      "Ras sheet complete.\n",
      "__________________________________________________\n",
      "Narwietooma\n",
      "NWT08\n",
      "Ras sheet complete.\n",
      "__________________________________________________\n",
      "Narwietooma\n",
      "NWT10\n",
      "Ras sheet complete.\n",
      "__________________________________________________\n",
      "Narwietooma\n",
      "NWT12\n",
      "Ras sheet complete.\n",
      "__________________________________________________\n",
      "Narwietooma\n",
      "NWT13A\n",
      "Observation sheet complete.\n",
      "__________________________________________________\n",
      "Narwietooma\n",
      "NWT14A\n",
      "Observation sheet complete.\n",
      "__________________________________________________\n",
      "Narwietooma\n",
      "NWT15A\n",
      "Observation sheet complete.\n",
      "__________________________________________________\n",
      "Narwietooma\n",
      "NWT16A\n",
      "Observation sheet complete.\n",
      "__________________________________________________\n",
      "Narwietooma\n",
      "NWT17A\n",
      "Observation sheet complete.\n",
      "__________________________________________________\n",
      "Narwietooma\n",
      "NWT18A\n",
      "Observation sheet complete.\n",
      "__________________________________________________\n",
      "Narwietooma\n",
      "NWT19A\n",
      "Observation sheet complete.\n",
      "__________________________________________________\n",
      "Narwietooma\n",
      "NWT20A\n",
      "Observation sheet complete.\n",
      "__________________________________________________\n",
      "Narwietooma\n",
      "NWT21A\n",
      "Observation sheet complete.\n",
      "__________________________________________________\n",
      "Narwietooma\n",
      "NWT22A\n",
      "Observation sheet complete.\n",
      "values_:  ['Northern_Alice', 'NWT', 'Narwietooma', 'NWT04', '2021']\n",
      "values_:  ['Northern_Alice', 'NWT', 'Narwietooma', 'NWT06', '2021']\n",
      "values_:  ['Northern_Alice', 'NWT', 'Narwietooma', 'NWT07', '2021']\n",
      "values_:  ['Northern_Alice', 'NWT', 'Narwietooma', 'NWT08', '2021']\n",
      "values_:  ['Northern_Alice', 'NWT', 'Narwietooma', 'NWT10', '2021']\n",
      "values_:  ['Northern_Alice', 'NWT', 'Narwietooma', 'NWT12', '2021']\n",
      "values_:  ['Northern_Alice', 'NWT', 'Narwietooma', 'NWT13A', '2021']\n",
      "values_:  ['Northern_Alice', 'NWT', 'Narwietooma', 'NWT14A', '2021']\n",
      "values_:  ['Northern_Alice', 'NWT', 'Narwietooma', 'NWT15A', '2021']\n",
      "values_:  ['Northern_Alice', 'NWT', 'Narwietooma', 'NWT16A', '2021']\n",
      "values_:  ['Northern_Alice', 'NWT', 'Narwietooma', 'NWT17A', '2021']\n",
      "values_:  ['Northern_Alice', 'NWT', 'Narwietooma', 'NWT18A', '2021']\n",
      "values_:  ['Northern_Alice', 'NWT', 'Narwietooma', 'NWT19A', '2021']\n",
      "values_:  ['Northern_Alice', 'NWT', 'Narwietooma', 'NWT20A', '2021']\n",
      "values_:  ['Northern_Alice', 'NWT', 'Narwietooma', 'NWT21A', '2021']\n",
      "values_:  ['Northern_Alice', 'NWT', 'Narwietooma', 'NWT22A', '2021']\n",
      "orig_file_path:  Z:\\Scratch\\Zonal_Stats_Pipeline\\rmb_aggregate_processing\\outputs\\ste10_20211007_1421\\prop_output\\Narwietooma\\Csv\n",
      "file_name:  Narwietooma_basal.csv\n",
      "orig_file_path:  Z:\\Scratch\\Zonal_Stats_Pipeline\\rmb_aggregate_processing\\outputs\\ste10_20211007_1421\\prop_output\\Narwietooma\\Csv\n",
      "file_name:  Narwietooma_integrated.csv\n",
      "orig_file_path:  Z:\\Scratch\\Zonal_Stats_Pipeline\\rmb_aggregate_processing\\outputs\\ste10_20211007_1421\\prop_output\\Narwietooma\\Csv\n",
      "file_name:  Narwietooma_ras.csv\n",
      "orig_file_path:  Z:\\Scratch\\Zonal_Stats_Pipeline\\rmb_aggregate_processing\\outputs\\ste10_20211007_1421\\prop_output\\Narwietooma\\Csv\n",
      "file_name:  Narwietooma_star_transect.csv\n",
      "star transect located\n"
     ]
    },
    {
     "ename": "ValueError",
     "evalue": "could not convert string to float: 'NWT16A'",
     "output_type": "error",
     "traceback": [
      "\u001b[1;31m---------------------------------------------------------------------------\u001b[0m",
      "\u001b[1;31mValueError\u001b[0m                                Traceback (most recent call last)",
      "\u001b[1;32mE:\\DENR\\code\\rangeland_monitoring\\rmb_aggregate_processing\\code\\step1_1_initiate_odk_processing_pipeline.py\u001b[0m in \u001b[0;36m<module>\u001b[1;34m()\u001b[0m\n\u001b[0;32m    457\u001b[0m \u001b[1;33m\u001b[0m\u001b[0m\n\u001b[0;32m    458\u001b[0m \u001b[1;32mif\u001b[0m \u001b[0m__name__\u001b[0m \u001b[1;33m==\u001b[0m \u001b[1;34m'__main__'\u001b[0m\u001b[1;33m:\u001b[0m\u001b[1;33m\u001b[0m\u001b[1;33m\u001b[0m\u001b[0m\n\u001b[1;32m--> 459\u001b[1;33m     \u001b[0mmain_routine\u001b[0m\u001b[1;33m(\u001b[0m\u001b[1;33m)\u001b[0m\u001b[1;33m\u001b[0m\u001b[1;33m\u001b[0m\u001b[0m\n\u001b[0m",
      "\u001b[1;32mE:\\DENR\\code\\rangeland_monitoring\\rmb_aggregate_processing\\code\\step1_1_initiate_odk_processing_pipeline.py\u001b[0m in \u001b[0;36mmain_routine\u001b[1;34m()\u001b[0m\n\u001b[0;32m    450\u001b[0m     \u001b[1;32mif\u001b[0m \u001b[0mremote_desktop\u001b[0m \u001b[1;33m!=\u001b[0m \u001b[1;34m\"offline\"\u001b[0m\u001b[1;33m:\u001b[0m\u001b[1;33m\u001b[0m\u001b[1;33m\u001b[0m\u001b[0m\n\u001b[0;32m    451\u001b[0m         \u001b[1;32mimport\u001b[0m \u001b[0mstep12_2_property_outputs_to_working_drive\u001b[0m\u001b[1;33m\u001b[0m\u001b[1;33m\u001b[0m\u001b[0m\n\u001b[1;32m--> 452\u001b[1;33m         \u001b[0mstep12_2_property_outputs_to_working_drive\u001b[0m\u001b[1;33m.\u001b[0m\u001b[0mmain_routine\u001b[0m\u001b[1;33m(\u001b[0m\u001b[0mtemp_dir\u001b[0m\u001b[1;33m,\u001b[0m \u001b[0mpastoral_estate\u001b[0m\u001b[1;33m,\u001b[0m \u001b[0mpastoral_districts_path\u001b[0m\u001b[1;33m)\u001b[0m\u001b[1;33m\u001b[0m\u001b[1;33m\u001b[0m\u001b[0m\n\u001b[0m\u001b[0;32m    453\u001b[0m     \u001b[1;32melse\u001b[0m\u001b[1;33m:\u001b[0m\u001b[1;33m\u001b[0m\u001b[1;33m\u001b[0m\u001b[0m\n\u001b[0;32m    454\u001b[0m         \u001b[0mprint\u001b[0m\u001b[1;33m(\u001b[0m\u001b[1;34m'You are offline; as such, property outputs have not been filed to the pastoral district directory'\u001b[0m\u001b[1;33m)\u001b[0m\u001b[1;33m\u001b[0m\u001b[1;33m\u001b[0m\u001b[0m\n",
      "\u001b[1;32mE:\\DENR\\code\\rangeland_monitoring\\rmb_aggregate_processing\\code\\step12_2_property_outputs_to_working_drive.py\u001b[0m in \u001b[0;36mmain_routine\u001b[1;34m(temp_dir, pastoral_estate_path, pastoral_districts_path)\u001b[0m\n\u001b[0;32m    215\u001b[0m                         \u001b[0mprint\u001b[0m\u001b[1;33m(\u001b[0m\u001b[1;34m'star transect located'\u001b[0m\u001b[1;33m)\u001b[0m\u001b[1;33m\u001b[0m\u001b[1;33m\u001b[0m\u001b[0m\n\u001b[0;32m    216\u001b[0m                         \u001b[0moffset_df\u001b[0m \u001b[1;33m=\u001b[0m \u001b[0mpd\u001b[0m\u001b[1;33m.\u001b[0m\u001b[0mread_csv\u001b[0m\u001b[1;33m(\u001b[0m\u001b[0mfile_path\u001b[0m\u001b[1;33m)\u001b[0m\u001b[1;33m\u001b[0m\u001b[1;33m\u001b[0m\u001b[0m\n\u001b[1;32m--> 217\u001b[1;33m                         \u001b[0moffset_gdf\u001b[0m \u001b[1;33m=\u001b[0m \u001b[0mgpd\u001b[0m\u001b[1;33m.\u001b[0m\u001b[0mpoints_from_xy\u001b[0m\u001b[1;33m(\u001b[0m\u001b[0moffset_df\u001b[0m\u001b[1;33m,\u001b[0m \u001b[0moffset_df\u001b[0m\u001b[1;33m.\u001b[0m\u001b[0mgda_o_lon\u001b[0m\u001b[1;33m,\u001b[0m \u001b[0moffset_df\u001b[0m\u001b[1;33m.\u001b[0m\u001b[0mgda_o_lat\u001b[0m\u001b[1;33m)\u001b[0m\u001b[1;33m\u001b[0m\u001b[1;33m\u001b[0m\u001b[0m\n\u001b[0m\u001b[0;32m    218\u001b[0m                         \u001b[0moffset_gdf_gda94\u001b[0m \u001b[1;33m=\u001b[0m \u001b[0moffset_gdf\u001b[0m\u001b[1;33m.\u001b[0m\u001b[0mset_crs\u001b[0m\u001b[1;33m(\u001b[0m\u001b[0mepsg\u001b[0m\u001b[1;33m=\u001b[0m\u001b[1;36m4283\u001b[0m\u001b[1;33m)\u001b[0m\u001b[1;33m\u001b[0m\u001b[1;33m\u001b[0m\u001b[0m\n\u001b[0;32m    219\u001b[0m \u001b[1;33m\u001b[0m\u001b[0m\n",
      "\u001b[1;32mC:\\ProgramData\\Miniconda3\\envs\\rmb_zonal\\lib\\site-packages\\geopandas\\array.py\u001b[0m in \u001b[0;36mpoints_from_xy\u001b[1;34m(x, y, z, crs)\u001b[0m\n\u001b[0;32m    251\u001b[0m     \u001b[0moutput\u001b[0m \u001b[1;33m:\u001b[0m \u001b[0mGeometryArray\u001b[0m\u001b[1;33m\u001b[0m\u001b[1;33m\u001b[0m\u001b[0m\n\u001b[0;32m    252\u001b[0m     \"\"\"\n\u001b[1;32m--> 253\u001b[1;33m     \u001b[1;32mreturn\u001b[0m \u001b[0mGeometryArray\u001b[0m\u001b[1;33m(\u001b[0m\u001b[0mvectorized\u001b[0m\u001b[1;33m.\u001b[0m\u001b[0mpoints_from_xy\u001b[0m\u001b[1;33m(\u001b[0m\u001b[0mx\u001b[0m\u001b[1;33m,\u001b[0m \u001b[0my\u001b[0m\u001b[1;33m,\u001b[0m \u001b[0mz\u001b[0m\u001b[1;33m)\u001b[0m\u001b[1;33m,\u001b[0m \u001b[0mcrs\u001b[0m\u001b[1;33m=\u001b[0m\u001b[0mcrs\u001b[0m\u001b[1;33m)\u001b[0m\u001b[1;33m\u001b[0m\u001b[1;33m\u001b[0m\u001b[0m\n\u001b[0m\u001b[0;32m    254\u001b[0m \u001b[1;33m\u001b[0m\u001b[0m\n\u001b[0;32m    255\u001b[0m \u001b[1;33m\u001b[0m\u001b[0m\n",
      "\u001b[1;32mC:\\ProgramData\\Miniconda3\\envs\\rmb_zonal\\lib\\site-packages\\geopandas\\_vectorized.py\u001b[0m in \u001b[0;36mpoints_from_xy\u001b[1;34m(x, y, z)\u001b[0m\n\u001b[0;32m    235\u001b[0m \u001b[1;32mdef\u001b[0m \u001b[0mpoints_from_xy\u001b[0m\u001b[1;33m(\u001b[0m\u001b[0mx\u001b[0m\u001b[1;33m,\u001b[0m \u001b[0my\u001b[0m\u001b[1;33m,\u001b[0m \u001b[0mz\u001b[0m\u001b[1;33m=\u001b[0m\u001b[1;32mNone\u001b[0m\u001b[1;33m)\u001b[0m\u001b[1;33m:\u001b[0m\u001b[1;33m\u001b[0m\u001b[1;33m\u001b[0m\u001b[0m\n\u001b[0;32m    236\u001b[0m \u001b[1;33m\u001b[0m\u001b[0m\n\u001b[1;32m--> 237\u001b[1;33m     \u001b[0mx\u001b[0m \u001b[1;33m=\u001b[0m \u001b[0mnp\u001b[0m\u001b[1;33m.\u001b[0m\u001b[0masarray\u001b[0m\u001b[1;33m(\u001b[0m\u001b[0mx\u001b[0m\u001b[1;33m,\u001b[0m \u001b[0mdtype\u001b[0m\u001b[1;33m=\u001b[0m\u001b[1;34m\"float64\"\u001b[0m\u001b[1;33m)\u001b[0m\u001b[1;33m\u001b[0m\u001b[1;33m\u001b[0m\u001b[0m\n\u001b[0m\u001b[0;32m    238\u001b[0m     \u001b[0my\u001b[0m \u001b[1;33m=\u001b[0m \u001b[0mnp\u001b[0m\u001b[1;33m.\u001b[0m\u001b[0masarray\u001b[0m\u001b[1;33m(\u001b[0m\u001b[0my\u001b[0m\u001b[1;33m,\u001b[0m \u001b[0mdtype\u001b[0m\u001b[1;33m=\u001b[0m\u001b[1;34m\"float64\"\u001b[0m\u001b[1;33m)\u001b[0m\u001b[1;33m\u001b[0m\u001b[1;33m\u001b[0m\u001b[0m\n\u001b[0;32m    239\u001b[0m     \u001b[1;32mif\u001b[0m \u001b[0mz\u001b[0m \u001b[1;32mis\u001b[0m \u001b[1;32mnot\u001b[0m \u001b[1;32mNone\u001b[0m\u001b[1;33m:\u001b[0m\u001b[1;33m\u001b[0m\u001b[1;33m\u001b[0m\u001b[0m\n",
      "\u001b[1;32mC:\\ProgramData\\Miniconda3\\envs\\rmb_zonal\\lib\\site-packages\\numpy\\core\\_asarray.py\u001b[0m in \u001b[0;36masarray\u001b[1;34m(a, dtype, order)\u001b[0m\n\u001b[0;32m     81\u001b[0m \u001b[1;33m\u001b[0m\u001b[0m\n\u001b[0;32m     82\u001b[0m     \"\"\"\n\u001b[1;32m---> 83\u001b[1;33m     \u001b[1;32mreturn\u001b[0m \u001b[0marray\u001b[0m\u001b[1;33m(\u001b[0m\u001b[0ma\u001b[0m\u001b[1;33m,\u001b[0m \u001b[0mdtype\u001b[0m\u001b[1;33m,\u001b[0m \u001b[0mcopy\u001b[0m\u001b[1;33m=\u001b[0m\u001b[1;32mFalse\u001b[0m\u001b[1;33m,\u001b[0m \u001b[0morder\u001b[0m\u001b[1;33m=\u001b[0m\u001b[0morder\u001b[0m\u001b[1;33m)\u001b[0m\u001b[1;33m\u001b[0m\u001b[1;33m\u001b[0m\u001b[0m\n\u001b[0m\u001b[0;32m     84\u001b[0m \u001b[1;33m\u001b[0m\u001b[0m\n\u001b[0;32m     85\u001b[0m \u001b[1;33m\u001b[0m\u001b[0m\n",
      "\u001b[1;32mC:\\ProgramData\\Miniconda3\\envs\\rmb_zonal\\lib\\site-packages\\pandas\\core\\generic.py\u001b[0m in \u001b[0;36m__array__\u001b[1;34m(self, dtype)\u001b[0m\n\u001b[0;32m   1776\u001b[0m \u001b[1;33m\u001b[0m\u001b[0m\n\u001b[0;32m   1777\u001b[0m     \u001b[1;32mdef\u001b[0m \u001b[0m__array__\u001b[0m\u001b[1;33m(\u001b[0m\u001b[0mself\u001b[0m\u001b[1;33m,\u001b[0m \u001b[0mdtype\u001b[0m\u001b[1;33m=\u001b[0m\u001b[1;32mNone\u001b[0m\u001b[1;33m)\u001b[0m \u001b[1;33m->\u001b[0m \u001b[0mnp\u001b[0m\u001b[1;33m.\u001b[0m\u001b[0mndarray\u001b[0m\u001b[1;33m:\u001b[0m\u001b[1;33m\u001b[0m\u001b[1;33m\u001b[0m\u001b[0m\n\u001b[1;32m-> 1778\u001b[1;33m         \u001b[1;32mreturn\u001b[0m \u001b[0mnp\u001b[0m\u001b[1;33m.\u001b[0m\u001b[0masarray\u001b[0m\u001b[1;33m(\u001b[0m\u001b[0mself\u001b[0m\u001b[1;33m.\u001b[0m\u001b[0m_values\u001b[0m\u001b[1;33m,\u001b[0m \u001b[0mdtype\u001b[0m\u001b[1;33m=\u001b[0m\u001b[0mdtype\u001b[0m\u001b[1;33m)\u001b[0m\u001b[1;33m\u001b[0m\u001b[1;33m\u001b[0m\u001b[0m\n\u001b[0m\u001b[0;32m   1779\u001b[0m \u001b[1;33m\u001b[0m\u001b[0m\n\u001b[0;32m   1780\u001b[0m     \u001b[1;32mdef\u001b[0m \u001b[0m__array_wrap__\u001b[0m\u001b[1;33m(\u001b[0m\u001b[0mself\u001b[0m\u001b[1;33m,\u001b[0m \u001b[0mresult\u001b[0m\u001b[1;33m,\u001b[0m \u001b[0mcontext\u001b[0m\u001b[1;33m=\u001b[0m\u001b[1;32mNone\u001b[0m\u001b[1;33m)\u001b[0m\u001b[1;33m:\u001b[0m\u001b[1;33m\u001b[0m\u001b[1;33m\u001b[0m\u001b[0m\n",
      "\u001b[1;32mC:\\ProgramData\\Miniconda3\\envs\\rmb_zonal\\lib\\site-packages\\numpy\\core\\_asarray.py\u001b[0m in \u001b[0;36masarray\u001b[1;34m(a, dtype, order)\u001b[0m\n\u001b[0;32m     81\u001b[0m \u001b[1;33m\u001b[0m\u001b[0m\n\u001b[0;32m     82\u001b[0m     \"\"\"\n\u001b[1;32m---> 83\u001b[1;33m     \u001b[1;32mreturn\u001b[0m \u001b[0marray\u001b[0m\u001b[1;33m(\u001b[0m\u001b[0ma\u001b[0m\u001b[1;33m,\u001b[0m \u001b[0mdtype\u001b[0m\u001b[1;33m,\u001b[0m \u001b[0mcopy\u001b[0m\u001b[1;33m=\u001b[0m\u001b[1;32mFalse\u001b[0m\u001b[1;33m,\u001b[0m \u001b[0morder\u001b[0m\u001b[1;33m=\u001b[0m\u001b[0morder\u001b[0m\u001b[1;33m)\u001b[0m\u001b[1;33m\u001b[0m\u001b[1;33m\u001b[0m\u001b[0m\n\u001b[0m\u001b[0;32m     84\u001b[0m \u001b[1;33m\u001b[0m\u001b[0m\n\u001b[0;32m     85\u001b[0m \u001b[1;33m\u001b[0m\u001b[0m\n",
      "\u001b[1;31mValueError\u001b[0m: could not convert string to float: 'NWT16A'"
     ]
    }
   ],
   "source": [
    "%run step1_1_initiate_odk_processing_pipeline.py -r remote_auto -p \"NARWIETOOMA\" -t 15 -d Z:\\Scratch\\Zonal_Stats_Pipeline\\rmb_aggregate_processing\\raw_odk\\Kate "
   ]
  },
  {
   "cell_type": "markdown",
   "metadata": {},
   "source": []
  },
  {
   "cell_type": "code",
   "execution_count": null,
   "metadata": {},
   "outputs": [],
   "source": []
  },
  {
   "cell_type": "code",
   "execution_count": null,
   "metadata": {},
   "outputs": [],
   "source": []
  },
  {
   "cell_type": "code",
   "execution_count": null,
   "metadata": {},
   "outputs": [],
   "source": []
  },
  {
   "cell_type": "code",
   "execution_count": null,
   "metadata": {},
   "outputs": [],
   "source": []
  },
  {
   "cell_type": "code",
   "execution_count": null,
   "metadata": {},
   "outputs": [],
   "source": []
  }
 ],
 "metadata": {
  "kernelspec": {
   "display_name": "Python 3",
   "language": "python",
   "name": "python3"
  },
  "language_info": {
   "codemirror_mode": {
    "name": "ipython",
    "version": 3
   },
   "file_extension": ".py",
   "mimetype": "text/x-python",
   "name": "python",
   "nbconvert_exporter": "python",
   "pygments_lexer": "ipython3",
   "version": "3.7.7"
  }
 },
 "nbformat": 4,
 "nbformat_minor": 2
}
