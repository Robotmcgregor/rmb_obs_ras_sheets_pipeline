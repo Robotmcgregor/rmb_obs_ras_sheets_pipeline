{
 "cells": [
  {
   "cell_type": "markdown",
   "metadata": {},
   "source": [
    "# ODK Aggregate processing pipeline.\n",
    "\n",
    "Copyright 2021 Robert McGregor"
   ]
  },
  {
   "cell_type": "markdown",
   "metadata": {},
   "source": [
    "#### Change your working directory to code"
   ]
  },
  {
   "cell_type": "code",
   "execution_count": 1,
   "metadata": {},
   "outputs": [
    {
     "name": "stdout",
     "output_type": "stream",
     "text": [
      "E:\\DEPWS\\code\\rangeland_monitoring\\rmb_aggregate_processing\\code\n"
     ]
    }
   ],
   "source": [
    "import os\n",
    "path_parent = os.path.dirname(os.getcwd())\n",
    "code_dir =  path_parent +  '\\\\code'\n",
    "os.chdir(code_dir)\n",
    "print(os.getcwd())"
   ]
  },
  {
   "cell_type": "code",
   "execution_count": 2,
   "metadata": {},
   "outputs": [
    {
     "name": "stdout",
     "output_type": "stream",
     "text": [
      "usage: step1_1_initiate_odk_processing_pipeline.py [-h] [-d DIRECTORY_ODK]\n",
      "                                                   [-x EXPORT_DIR]\n",
      "                                                   [-c CHROME_DRIVER]\n",
      "                                                   [-r REMOTE_DESKTOP]\n",
      "                                                   [-v ASSETS_VEG_LIST_DIR]\n",
      "                                                   [-s ASSETS_SHAPEFILES_DIR]\n",
      "                                                   [-t TIME_SLEEP]\n",
      "                                                   [-ht HTML_DIR]\n",
      "                                                   [-ver VERSION]\n",
      "                                                   [-p PROPERTY_ENQUIRE]\n",
      "                                                   [-pd PASTORAL_DISTRICTS_DIRECTORY]\n",
      "\n",
      "Process raw RMB odk outputs -> csv, shapefiles observational sheets, and Ras\n",
      "sheets.\n",
      "\n",
      "optional arguments:\n",
      "  -h, --help            show this help message and exit\n",
      "  -d DIRECTORY_ODK, --directory_odk DIRECTORY_ODK\n",
      "                        The directory containing ODK csv files.\n",
      "  -x EXPORT_DIR, --export_dir EXPORT_DIR\n",
      "                        Directory path for outputs.\n",
      "  -c CHROME_DRIVER, --chrome_driver CHROME_DRIVER\n",
      "                        File path for the chrome extension driver.\n",
      "  -r REMOTE_DESKTOP, --remote_desktop REMOTE_DESKTOP\n",
      "                        Working on the remote_desktop? - Enter remote_auto,\n",
      "                        remote, local or offline.\n",
      "  -v ASSETS_VEG_LIST_DIR, --assets_veg_list_dir ASSETS_VEG_LIST_DIR\n",
      "                        Directory containing veg lists\n",
      "  -s ASSETS_SHAPEFILES_DIR, --assets_shapefiles_dir ASSETS_SHAPEFILES_DIR\n",
      "                        Directory containing shapefiles\n",
      "  -t TIME_SLEEP, --time_sleep TIME_SLEEP\n",
      "                        Time between odk aggregate actions -if lagging\n",
      "                        increase integer\n",
      "  -ht HTML_DIR, --html_dir HTML_DIR\n",
      "                        Directory containing html transect files (local or\n",
      "                        offline mode only\n",
      "  -ver VERSION, --version VERSION\n",
      "                        ODK version being processed (eg. v1, v2 etc.)\n",
      "  -p PROPERTY_ENQUIRE, --property_enquire PROPERTY_ENQUIRE\n",
      "                        Enter the name of of a single property you wish to\n",
      "                        process. (eg. PROPERTY_NAME)\n",
      "  -pd PASTORAL_DISTRICTS_DIRECTORY, --pastoral_districts_directory PASTORAL_DISTRICTS_DIRECTORY\n",
      "                        Enter path to the Pastoral_Districts directory in the\n",
      "                        Spatial/Working drive)\n"
     ]
    }
   ],
   "source": [
    "%run step1_1_initiate_odk_processing_pipeline.py -h"
   ]
  },
  {
   "cell_type": "code",
   "execution_count": 3,
   "metadata": {},
   "outputs": [
    {
     "name": "stdout",
     "output_type": "stream",
     "text": [
      "==================================================\n",
      "Processing property:  Kalala\n",
      "==================================================\n",
      "veg_list.xlsx located.\n",
      "NT_Pastoral_Estate.shp located.\n",
      "NT_StarTransect_20200713.shp located.\n",
      "['RMB_Star_Transect_v2', 'RMB_Integrated_v2', 'RMB_Basal_Sweep_v2', 'RMB_Woody_Thickening_v2', 'RMB_Rapid_Assessment_RAS_v2']\n"
     ]
    },
    {
     "ename": "TimeoutException",
     "evalue": "Message: \n",
     "output_type": "error",
     "traceback": [
      "\u001b[1;31m---------------------------------------------------------------------------\u001b[0m",
      "\u001b[1;31mTimeoutException\u001b[0m                          Traceback (most recent call last)",
      "\u001b[1;32mE:\\DEPWS\\code\\rangeland_monitoring\\rmb_aggregate_processing\\code\\step1_1_initiate_odk_processing_pipeline.py\u001b[0m in \u001b[0;36m<module>\u001b[1;34m()\u001b[0m\n\u001b[0;32m    466\u001b[0m     \u001b[0mprint\u001b[0m\u001b[1;33m(\u001b[0m\u001b[1;34m'script complete - goodbye.......'\u001b[0m\u001b[1;33m)\u001b[0m\u001b[1;33m\u001b[0m\u001b[1;33m\u001b[0m\u001b[0m\n\u001b[0;32m    467\u001b[0m \u001b[1;32mif\u001b[0m \u001b[0m__name__\u001b[0m \u001b[1;33m==\u001b[0m \u001b[1;34m'__main__'\u001b[0m\u001b[1;33m:\u001b[0m\u001b[1;33m\u001b[0m\u001b[1;33m\u001b[0m\u001b[0m\n\u001b[1;32m--> 468\u001b[1;33m     \u001b[0mmain_routine\u001b[0m\u001b[1;33m(\u001b[0m\u001b[1;33m)\u001b[0m\u001b[1;33m\u001b[0m\u001b[1;33m\u001b[0m\u001b[0m\n\u001b[0m",
      "\u001b[1;32mE:\\DEPWS\\code\\rangeland_monitoring\\rmb_aggregate_processing\\code\\step1_1_initiate_odk_processing_pipeline.py\u001b[0m in \u001b[0;36mmain_routine\u001b[1;34m()\u001b[0m\n\u001b[0;32m    370\u001b[0m         \u001b[1;32mimport\u001b[0m \u001b[0mstep1_2_aggregate_collect_raw_data_remote_desktop\u001b[0m\u001b[1;33m\u001b[0m\u001b[1;33m\u001b[0m\u001b[0m\n\u001b[0;32m    371\u001b[0m         odk_results_list = step1_2_aggregate_collect_raw_data_remote_desktop.main_routine(\n\u001b[1;32m--> 372\u001b[1;33m             chrome_driver_path, odk_form_list, time_sleep)\n\u001b[0m\u001b[0;32m    373\u001b[0m \u001b[1;33m\u001b[0m\u001b[0m\n\u001b[0;32m    374\u001b[0m         \u001b[1;31m# purge result csv with 0 observations\u001b[0m\u001b[1;33m\u001b[0m\u001b[1;33m\u001b[0m\u001b[1;33m\u001b[0m\u001b[0m\n",
      "\u001b[1;32mE:\\DEPWS\\code\\rangeland_monitoring\\rmb_aggregate_processing\\code\\step1_2_aggregate_collect_raw_data_remote_desktop.py\u001b[0m in \u001b[0;36mmain_routine\u001b[1;34m(chrome_driver, odk_form_list, time_sleep)\u001b[0m\n\u001b[0;32m    242\u001b[0m                     hyperlink_state = WebDriverWait(driver, 10).until(EC.visibility_of_element_located(\n\u001b[0;32m    243\u001b[0m                         (By.XPATH,\n\u001b[1;32m--> 244\u001b[1;33m                          \"//*[@id='mainNav']/tbody/tr[2]/td/div/div[1]/table/tbody/tr[2]/td/div/div[2]/div/table/tbody/tr[3]/td[4]/div\")))\n\u001b[0m\u001b[0;32m    245\u001b[0m                     \u001b[0mtime\u001b[0m\u001b[1;33m.\u001b[0m\u001b[0msleep\u001b[0m\u001b[1;33m(\u001b[0m\u001b[1;36m2\u001b[0m\u001b[1;33m)\u001b[0m\u001b[1;33m\u001b[0m\u001b[1;33m\u001b[0m\u001b[0m\n\u001b[0;32m    246\u001b[0m \u001b[1;33m\u001b[0m\u001b[0m\n",
      "\u001b[1;32mC:\\ProgramData\\Miniconda3\\envs\\rmb_zonal2\\lib\\site-packages\\selenium\\webdriver\\support\\wait.py\u001b[0m in \u001b[0;36muntil\u001b[1;34m(self, method, message)\u001b[0m\n\u001b[0;32m     78\u001b[0m             \u001b[1;32mif\u001b[0m \u001b[0mtime\u001b[0m\u001b[1;33m.\u001b[0m\u001b[0mtime\u001b[0m\u001b[1;33m(\u001b[0m\u001b[1;33m)\u001b[0m \u001b[1;33m>\u001b[0m \u001b[0mend_time\u001b[0m\u001b[1;33m:\u001b[0m\u001b[1;33m\u001b[0m\u001b[1;33m\u001b[0m\u001b[0m\n\u001b[0;32m     79\u001b[0m                 \u001b[1;32mbreak\u001b[0m\u001b[1;33m\u001b[0m\u001b[1;33m\u001b[0m\u001b[0m\n\u001b[1;32m---> 80\u001b[1;33m         \u001b[1;32mraise\u001b[0m \u001b[0mTimeoutException\u001b[0m\u001b[1;33m(\u001b[0m\u001b[0mmessage\u001b[0m\u001b[1;33m,\u001b[0m \u001b[0mscreen\u001b[0m\u001b[1;33m,\u001b[0m \u001b[0mstacktrace\u001b[0m\u001b[1;33m)\u001b[0m\u001b[1;33m\u001b[0m\u001b[1;33m\u001b[0m\u001b[0m\n\u001b[0m\u001b[0;32m     81\u001b[0m \u001b[1;33m\u001b[0m\u001b[0m\n\u001b[0;32m     82\u001b[0m     \u001b[1;32mdef\u001b[0m \u001b[0muntil_not\u001b[0m\u001b[1;33m(\u001b[0m\u001b[0mself\u001b[0m\u001b[1;33m,\u001b[0m \u001b[0mmethod\u001b[0m\u001b[1;33m,\u001b[0m \u001b[0mmessage\u001b[0m\u001b[1;33m=\u001b[0m\u001b[1;34m''\u001b[0m\u001b[1;33m)\u001b[0m\u001b[1;33m:\u001b[0m\u001b[1;33m\u001b[0m\u001b[1;33m\u001b[0m\u001b[0m\n",
      "\u001b[1;31mTimeoutException\u001b[0m: Message: \n"
     ]
    }
   ],
   "source": [
    "%run step1_1_initiate_odk_processing_pipeline.py -r remote_auto -p \"KALALA\" -t 15"
   ]
  },
  {
   "cell_type": "code",
   "execution_count": null,
   "metadata": {},
   "outputs": [],
   "source": []
  },
  {
   "cell_type": "code",
   "execution_count": 4,
   "metadata": {},
   "outputs": [
    {
     "name": "stdout",
     "output_type": "stream",
     "text": [
      "usage: step1_1_initiate_odk_processing_pipeline.py [-h] [-d DIRECTORY_ODK]\n",
      "                                                   [-x EXPORT_DIR]\n",
      "                                                   [-c CHROME_DRIVER]\n",
      "                                                   [-r REMOTE_DESKTOP]\n",
      "                                                   [-v ASSETS_VEG_LIST_DIR]\n",
      "                                                   [-s ASSETS_SHAPEFILES_DIR]\n",
      "                                                   [-t TIME_SLEEP]\n",
      "                                                   [-ht HTML_DIR]\n",
      "                                                   [-ver VERSION]\n",
      "                                                   [-p PROPERTY_ENQUIRE]\n",
      "                                                   [-pd PASTORAL_DISTRICTS_DIRECTORY]\n",
      "\n",
      "Process raw RMB odk outputs -> csv, shapefiles observational sheets, and Ras\n",
      "sheets.\n",
      "\n",
      "optional arguments:\n",
      "  -h, --help            show this help message and exit\n",
      "  -d DIRECTORY_ODK, --directory_odk DIRECTORY_ODK\n",
      "                        The directory containing ODK csv files.\n",
      "  -x EXPORT_DIR, --export_dir EXPORT_DIR\n",
      "                        Directory path for outputs.\n",
      "  -c CHROME_DRIVER, --chrome_driver CHROME_DRIVER\n",
      "                        File path for the chrome extension driver.\n",
      "  -r REMOTE_DESKTOP, --remote_desktop REMOTE_DESKTOP\n",
      "                        Working on the remote_desktop? - Enter remote_auto,\n",
      "                        remote, local or offline.\n",
      "  -v ASSETS_VEG_LIST_DIR, --assets_veg_list_dir ASSETS_VEG_LIST_DIR\n",
      "                        Directory containing veg lists\n",
      "  -s ASSETS_SHAPEFILES_DIR, --assets_shapefiles_dir ASSETS_SHAPEFILES_DIR\n",
      "                        Directory containing shapefiles\n",
      "  -t TIME_SLEEP, --time_sleep TIME_SLEEP\n",
      "                        Time between odk aggregate actions -if lagging\n",
      "                        increase integer\n",
      "  -ht HTML_DIR, --html_dir HTML_DIR\n",
      "                        Directory containing html transect files (local or\n",
      "                        offline mode only\n",
      "  -ver VERSION, --version VERSION\n",
      "                        ODK version being processed (eg. v1, v2 etc.)\n",
      "  -p PROPERTY_ENQUIRE, --property_enquire PROPERTY_ENQUIRE\n",
      "                        Enter the name of of a single property you wish to\n",
      "                        process. (eg. PROPERTY_NAME)\n",
      "  -pd PASTORAL_DISTRICTS_DIRECTORY, --pastoral_districts_directory PASTORAL_DISTRICTS_DIRECTORY\n",
      "                        Enter path to the Pastoral_Districts directory in the\n",
      "                        Spatial/Working drive)\n"
     ]
    }
   ],
   "source": [
    "%run step1_1_initiate_odk_processing_pipeline.py -h"
   ]
  },
  {
   "cell_type": "code",
   "execution_count": 5,
   "metadata": {
    "scrolled": false
   },
   "outputs": [
    {
     "name": "stdout",
     "output_type": "stream",
     "text": [
      "==================================================\n",
      "Processing property:  Coniston\n",
      "==================================================\n",
      "veg_list.xlsx located.\n",
      "NT_Pastoral_Estate.shp located.\n",
      "NT_StarTransect_20200713.shp located.\n",
      "['RMB_Star_Transect_v2', 'RMB_Integrated_v2', 'RMB_Basal_Sweep_v2', 'RMB_Woody_Thickening_v2', 'RMB_Rapid_Assessment_RAS_v2']\n",
      "export_dir:  Z:\\Scratch\\Zonal_Stats_Pipeline\\rmb_aggregate_processing\\outputs\n",
      "temp_dir:  Z:\\Scratch\\Zonal_Stats_Pipeline\\rmb_aggregate_processing\\outputs\\hughh_20220615_14_10\n",
      "The following directory did not exist:  Z:\\Scratch\\Zonal_Stats_Pipeline\\rmb_aggregate_processing\\outputs\\hughh_20220615_14_10\n",
      "- located:  RMB_Star_Transect_v2_results.csv\n",
      "- in directory:  Z:\\Scratch\\Zonal_Stats_Pipeline\\rmb_aggregate_processing\\raw_odk\\rmcgr\n",
      "--------------------------------------------------\n",
      " - NOT LOCATED:  RMB_Star_Transect_v2_results.csv\n",
      " - in directory:  Z:\\Scratch\\Zonal_Stats_Pipeline\\rmb_aggregate_processing\\raw_odk\\rmcgr\n",
      "--------------------------------------------------\n",
      "- located:  RMB_Integrated_v2_results.csv\n",
      "- in directory:  Z:\\Scratch\\Zonal_Stats_Pipeline\\rmb_aggregate_processing\\raw_odk\\rmcgr\n",
      "--------------------------------------------------\n",
      " - NOT LOCATED:  RMB_Integrated_v2_results.csv\n",
      " - in directory:  Z:\\Scratch\\Zonal_Stats_Pipeline\\rmb_aggregate_processing\\raw_odk\\rmcgr\n",
      "--------------------------------------------------\n",
      "- located:  RMB_Basal_Sweep_v2_results.csv\n",
      "- in directory:  Z:\\Scratch\\Zonal_Stats_Pipeline\\rmb_aggregate_processing\\raw_odk\\rmcgr\n",
      "--------------------------------------------------\n",
      " - NOT LOCATED:  RMB_Basal_Sweep_v2_results.csv\n",
      " - in directory:  Z:\\Scratch\\Zonal_Stats_Pipeline\\rmb_aggregate_processing\\raw_odk\\rmcgr\n",
      "--------------------------------------------------\n",
      "- located:  RMB_Woody_Thickening_v2_results.csv\n",
      "- in directory:  Z:\\Scratch\\Zonal_Stats_Pipeline\\rmb_aggregate_processing\\raw_odk\\rmcgr\n",
      "--------------------------------------------------\n",
      " - NOT LOCATED:  RMB_Woody_Thickening_v2_results.csv\n",
      " - in directory:  Z:\\Scratch\\Zonal_Stats_Pipeline\\rmb_aggregate_processing\\raw_odk\\rmcgr\n",
      "--------------------------------------------------\n",
      "- located:  RMB_Rapid_Assessment_RAS_v2_results.csv\n",
      "- in directory:  Z:\\Scratch\\Zonal_Stats_Pipeline\\rmb_aggregate_processing\\raw_odk\\rmcgr\n",
      "--------------------------------------------------\n",
      " - NOT LOCATED:  RMB_Rapid_Assessment_RAS_v2_results.csv\n",
      " - in directory:  Z:\\Scratch\\Zonal_Stats_Pipeline\\rmb_aggregate_processing\\raw_odk\\rmcgr\n",
      "--------------------------------------------------\n",
      "!!!!!!!!!!!!!!!!!!!!!!!!!!!!!!!!!!!!!!!!!!!!!!!!!!\n",
      "located_list:  [False, False, False, False, False]\n",
      "step12_2 initiated...\n",
      "==================================================\n",
      "script complete - goodbye.......\n"
     ]
    }
   ],
   "source": [
    "%run step1_1_initiate_odk_processing_pipeline.py \\\n",
    "-r remote -d Z:\\Scratch\\Zonal_Stats_Pipeline\\rmb_aggregate_processing\\raw_odk\\rmcgr \\\n",
    "    -p \"CONISTON\""
   ]
  },
  {
   "cell_type": "code",
   "execution_count": null,
   "metadata": {},
   "outputs": [],
   "source": []
  },
  {
   "cell_type": "code",
   "execution_count": null,
   "metadata": {},
   "outputs": [],
   "source": []
  }
 ],
 "metadata": {
  "kernelspec": {
   "display_name": "Python 3",
   "language": "python",
   "name": "python3"
  },
  "language_info": {
   "codemirror_mode": {
    "name": "ipython",
    "version": 3
   },
   "file_extension": ".py",
   "mimetype": "text/x-python",
   "name": "python",
   "nbconvert_exporter": "python",
   "pygments_lexer": "ipython3",
   "version": "3.7.7"
  }
 },
 "nbformat": 4,
 "nbformat_minor": 2
}
